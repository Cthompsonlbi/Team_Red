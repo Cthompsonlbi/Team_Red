{
 "cells": [
  {
   "cell_type": "markdown",
   "metadata": {
    "tags": []
   },
   "source": [
    "# Insight Resampling Techniques"
   ]
  },
  {
   "cell_type": "code",
   "execution_count": 1,
   "metadata": {
    "tags": []
   },
   "outputs": [],
   "source": [
    "import warnings\n",
    "warnings.filterwarnings('ignore')"
   ]
  },
  {
   "cell_type": "code",
   "execution_count": 2,
   "metadata": {},
   "outputs": [],
   "source": [
    "import numpy as np\n",
    "import pandas as pd\n",
    "from pathlib import Path\n",
    "from collections import Counter\n",
    "from matplotlib import pyplot as plt"
   ]
  },
  {
   "cell_type": "code",
   "execution_count": 3,
   "metadata": {},
   "outputs": [],
   "source": [
    "#skLearn and imblearn Dependencies\n",
    "from sklearn.model_selection import train_test_split\n",
    "from sklearn.linear_model import LogisticRegression\n",
    "from sklearn.metrics import balanced_accuracy_score\n",
    "from sklearn.metrics import accuracy_score\n",
    "from sklearn.metrics import confusion_matrix, classification_report\n",
    "from sklearn.preprocessing import StandardScaler\n",
    "from sklearn.metrics import ConfusionMatrixDisplay\n",
    "from sklearn.preprocessing import StandardScaler,OneHotEncoder\n",
    "\n",
    "from imblearn.over_sampling import RandomOverSampler\n",
    "from imblearn.combine import SMOTEENN\n",
    "from imblearn.metrics import classification_report_imbalanced\n",
    "from imblearn.over_sampling import SMOTE\n",
    "from imblearn.under_sampling import ClusterCentroids\n"
   ]
  },
  {
   "cell_type": "markdown",
   "metadata": {},
   "source": [
    "# Read the CSV and Remove Columns Deemed Low Importance"
   ]
  },
  {
   "cell_type": "code",
   "execution_count": 4,
   "metadata": {},
   "outputs": [
    {
     "data": {
      "text/html": [
       "<div>\n",
       "<style scoped>\n",
       "    .dataframe tbody tr th:only-of-type {\n",
       "        vertical-align: middle;\n",
       "    }\n",
       "\n",
       "    .dataframe tbody tr th {\n",
       "        vertical-align: top;\n",
       "    }\n",
       "\n",
       "    .dataframe thead th {\n",
       "        text-align: right;\n",
       "    }\n",
       "</style>\n",
       "<table border=\"1\" class=\"dataframe\">\n",
       "  <thead>\n",
       "    <tr style=\"text-align: right;\">\n",
       "      <th></th>\n",
       "      <th>customerid</th>\n",
       "      <th>prodtaken</th>\n",
       "      <th>age</th>\n",
       "      <th>citytier</th>\n",
       "      <th>occupation</th>\n",
       "      <th>gender</th>\n",
       "      <th>numberofpersonvisiting</th>\n",
       "      <th>preferredpropertystar</th>\n",
       "      <th>maritalstatus</th>\n",
       "      <th>numberoftrips</th>\n",
       "      <th>passport</th>\n",
       "      <th>owncar</th>\n",
       "      <th>numberofchildrenvisiting</th>\n",
       "      <th>designation</th>\n",
       "      <th>monthlyincome</th>\n",
       "      <th>typeofcontact</th>\n",
       "      <th>durationofpitch</th>\n",
       "      <th>numberoffollowups</th>\n",
       "      <th>productpitched</th>\n",
       "      <th>pitchsatisfactionscore</th>\n",
       "    </tr>\n",
       "  </thead>\n",
       "  <tbody>\n",
       "    <tr>\n",
       "      <th>0</th>\n",
       "      <td>200000</td>\n",
       "      <td>1</td>\n",
       "      <td>41.000000</td>\n",
       "      <td>3</td>\n",
       "      <td>Salaried</td>\n",
       "      <td>Female</td>\n",
       "      <td>3</td>\n",
       "      <td>3.0</td>\n",
       "      <td>Single</td>\n",
       "      <td>1.0</td>\n",
       "      <td>1</td>\n",
       "      <td>1</td>\n",
       "      <td>0.0</td>\n",
       "      <td>Manager</td>\n",
       "      <td>20993.0</td>\n",
       "      <td>Self Enquiry</td>\n",
       "      <td>6.0</td>\n",
       "      <td>3.0</td>\n",
       "      <td>Deluxe</td>\n",
       "      <td>2</td>\n",
       "    </tr>\n",
       "    <tr>\n",
       "      <th>1</th>\n",
       "      <td>200001</td>\n",
       "      <td>0</td>\n",
       "      <td>49.000000</td>\n",
       "      <td>1</td>\n",
       "      <td>Salaried</td>\n",
       "      <td>Male</td>\n",
       "      <td>3</td>\n",
       "      <td>4.0</td>\n",
       "      <td>Single</td>\n",
       "      <td>2.0</td>\n",
       "      <td>0</td>\n",
       "      <td>1</td>\n",
       "      <td>2.0</td>\n",
       "      <td>Manager</td>\n",
       "      <td>20130.0</td>\n",
       "      <td>Company Invited</td>\n",
       "      <td>14.0</td>\n",
       "      <td>4.0</td>\n",
       "      <td>Deluxe</td>\n",
       "      <td>3</td>\n",
       "    </tr>\n",
       "    <tr>\n",
       "      <th>2</th>\n",
       "      <td>200002</td>\n",
       "      <td>1</td>\n",
       "      <td>37.000000</td>\n",
       "      <td>1</td>\n",
       "      <td>Free Lancer</td>\n",
       "      <td>Male</td>\n",
       "      <td>3</td>\n",
       "      <td>3.0</td>\n",
       "      <td>Single</td>\n",
       "      <td>7.0</td>\n",
       "      <td>1</td>\n",
       "      <td>0</td>\n",
       "      <td>0.0</td>\n",
       "      <td>Executive</td>\n",
       "      <td>17090.0</td>\n",
       "      <td>Self Enquiry</td>\n",
       "      <td>8.0</td>\n",
       "      <td>4.0</td>\n",
       "      <td>Basic</td>\n",
       "      <td>3</td>\n",
       "    </tr>\n",
       "    <tr>\n",
       "      <th>3</th>\n",
       "      <td>200003</td>\n",
       "      <td>0</td>\n",
       "      <td>33.000000</td>\n",
       "      <td>1</td>\n",
       "      <td>Salaried</td>\n",
       "      <td>Female</td>\n",
       "      <td>2</td>\n",
       "      <td>3.0</td>\n",
       "      <td>Single</td>\n",
       "      <td>2.0</td>\n",
       "      <td>1</td>\n",
       "      <td>1</td>\n",
       "      <td>1.0</td>\n",
       "      <td>Executive</td>\n",
       "      <td>17909.0</td>\n",
       "      <td>Company Invited</td>\n",
       "      <td>9.0</td>\n",
       "      <td>3.0</td>\n",
       "      <td>Basic</td>\n",
       "      <td>5</td>\n",
       "    </tr>\n",
       "    <tr>\n",
       "      <th>4</th>\n",
       "      <td>200004</td>\n",
       "      <td>0</td>\n",
       "      <td>37.622265</td>\n",
       "      <td>1</td>\n",
       "      <td>Small Business</td>\n",
       "      <td>Male</td>\n",
       "      <td>2</td>\n",
       "      <td>4.0</td>\n",
       "      <td>Single</td>\n",
       "      <td>1.0</td>\n",
       "      <td>0</td>\n",
       "      <td>1</td>\n",
       "      <td>0.0</td>\n",
       "      <td>Executive</td>\n",
       "      <td>18468.0</td>\n",
       "      <td>Self Enquiry</td>\n",
       "      <td>8.0</td>\n",
       "      <td>3.0</td>\n",
       "      <td>Basic</td>\n",
       "      <td>5</td>\n",
       "    </tr>\n",
       "  </tbody>\n",
       "</table>\n",
       "</div>"
      ],
      "text/plain": [
       "   customerid  prodtaken        age  citytier      occupation  gender  \\\n",
       "0      200000          1  41.000000         3        Salaried  Female   \n",
       "1      200001          0  49.000000         1        Salaried    Male   \n",
       "2      200002          1  37.000000         1     Free Lancer    Male   \n",
       "3      200003          0  33.000000         1        Salaried  Female   \n",
       "4      200004          0  37.622265         1  Small Business    Male   \n",
       "\n",
       "   numberofpersonvisiting  preferredpropertystar maritalstatus  numberoftrips  \\\n",
       "0                       3                    3.0        Single            1.0   \n",
       "1                       3                    4.0        Single            2.0   \n",
       "2                       3                    3.0        Single            7.0   \n",
       "3                       2                    3.0        Single            2.0   \n",
       "4                       2                    4.0        Single            1.0   \n",
       "\n",
       "   passport  owncar  numberofchildrenvisiting designation  monthlyincome  \\\n",
       "0         1       1                       0.0     Manager        20993.0   \n",
       "1         0       1                       2.0     Manager        20130.0   \n",
       "2         1       0                       0.0   Executive        17090.0   \n",
       "3         1       1                       1.0   Executive        17909.0   \n",
       "4         0       1                       0.0   Executive        18468.0   \n",
       "\n",
       "     typeofcontact  durationofpitch  numberoffollowups productpitched  \\\n",
       "0     Self Enquiry              6.0                3.0         Deluxe   \n",
       "1  Company Invited             14.0                4.0         Deluxe   \n",
       "2     Self Enquiry              8.0                4.0          Basic   \n",
       "3  Company Invited              9.0                3.0          Basic   \n",
       "4     Self Enquiry              8.0                3.0          Basic   \n",
       "\n",
       "   pitchsatisfactionscore  \n",
       "0                       2  \n",
       "1                       3  \n",
       "2                       3  \n",
       "3                       5  \n",
       "4                       5  "
      ]
     },
     "execution_count": 4,
     "metadata": {},
     "output_type": "execute_result"
    }
   ],
   "source": [
    "# Loading data USING CSV that contains cleanded values for MaritalStatus and Gender and dropped OwnCar\n",
    "file_path = Path(\"../Resources/TravelCleanedSkiLearnImputer.csv\")\n",
    "df = pd.read_csv(file_path)\n",
    "df.head()"
   ]
  },
  {
   "cell_type": "code",
   "execution_count": 5,
   "metadata": {},
   "outputs": [
    {
     "data": {
      "text/html": [
       "<div>\n",
       "<style scoped>\n",
       "    .dataframe tbody tr th:only-of-type {\n",
       "        vertical-align: middle;\n",
       "    }\n",
       "\n",
       "    .dataframe tbody tr th {\n",
       "        vertical-align: top;\n",
       "    }\n",
       "\n",
       "    .dataframe thead th {\n",
       "        text-align: right;\n",
       "    }\n",
       "</style>\n",
       "<table border=\"1\" class=\"dataframe\">\n",
       "  <thead>\n",
       "    <tr style=\"text-align: right;\">\n",
       "      <th></th>\n",
       "      <th>age</th>\n",
       "      <th>citytier</th>\n",
       "      <th>occupation</th>\n",
       "      <th>gender</th>\n",
       "      <th>numberofpersonvisiting</th>\n",
       "      <th>preferredpropertystar</th>\n",
       "      <th>maritalstatus</th>\n",
       "      <th>numberoftrips</th>\n",
       "      <th>passport</th>\n",
       "      <th>owncar</th>\n",
       "      <th>numberofchildrenvisiting</th>\n",
       "      <th>monthlyincome</th>\n",
       "      <th>typeofcontact</th>\n",
       "      <th>durationofpitch</th>\n",
       "      <th>numberoffollowups</th>\n",
       "      <th>productpitched</th>\n",
       "      <th>pitchsatisfactionscore</th>\n",
       "    </tr>\n",
       "  </thead>\n",
       "  <tbody>\n",
       "    <tr>\n",
       "      <th>0</th>\n",
       "      <td>41.000000</td>\n",
       "      <td>3</td>\n",
       "      <td>Salaried</td>\n",
       "      <td>Female</td>\n",
       "      <td>3</td>\n",
       "      <td>3.0</td>\n",
       "      <td>Single</td>\n",
       "      <td>1.0</td>\n",
       "      <td>1</td>\n",
       "      <td>1</td>\n",
       "      <td>0.0</td>\n",
       "      <td>20993.0</td>\n",
       "      <td>Self Enquiry</td>\n",
       "      <td>6.0</td>\n",
       "      <td>3.0</td>\n",
       "      <td>Deluxe</td>\n",
       "      <td>2</td>\n",
       "    </tr>\n",
       "    <tr>\n",
       "      <th>1</th>\n",
       "      <td>49.000000</td>\n",
       "      <td>1</td>\n",
       "      <td>Salaried</td>\n",
       "      <td>Male</td>\n",
       "      <td>3</td>\n",
       "      <td>4.0</td>\n",
       "      <td>Single</td>\n",
       "      <td>2.0</td>\n",
       "      <td>0</td>\n",
       "      <td>1</td>\n",
       "      <td>2.0</td>\n",
       "      <td>20130.0</td>\n",
       "      <td>Company Invited</td>\n",
       "      <td>14.0</td>\n",
       "      <td>4.0</td>\n",
       "      <td>Deluxe</td>\n",
       "      <td>3</td>\n",
       "    </tr>\n",
       "    <tr>\n",
       "      <th>2</th>\n",
       "      <td>37.000000</td>\n",
       "      <td>1</td>\n",
       "      <td>Free Lancer</td>\n",
       "      <td>Male</td>\n",
       "      <td>3</td>\n",
       "      <td>3.0</td>\n",
       "      <td>Single</td>\n",
       "      <td>7.0</td>\n",
       "      <td>1</td>\n",
       "      <td>0</td>\n",
       "      <td>0.0</td>\n",
       "      <td>17090.0</td>\n",
       "      <td>Self Enquiry</td>\n",
       "      <td>8.0</td>\n",
       "      <td>4.0</td>\n",
       "      <td>Basic</td>\n",
       "      <td>3</td>\n",
       "    </tr>\n",
       "    <tr>\n",
       "      <th>3</th>\n",
       "      <td>33.000000</td>\n",
       "      <td>1</td>\n",
       "      <td>Salaried</td>\n",
       "      <td>Female</td>\n",
       "      <td>2</td>\n",
       "      <td>3.0</td>\n",
       "      <td>Single</td>\n",
       "      <td>2.0</td>\n",
       "      <td>1</td>\n",
       "      <td>1</td>\n",
       "      <td>1.0</td>\n",
       "      <td>17909.0</td>\n",
       "      <td>Company Invited</td>\n",
       "      <td>9.0</td>\n",
       "      <td>3.0</td>\n",
       "      <td>Basic</td>\n",
       "      <td>5</td>\n",
       "    </tr>\n",
       "    <tr>\n",
       "      <th>4</th>\n",
       "      <td>37.622265</td>\n",
       "      <td>1</td>\n",
       "      <td>Small Business</td>\n",
       "      <td>Male</td>\n",
       "      <td>2</td>\n",
       "      <td>4.0</td>\n",
       "      <td>Single</td>\n",
       "      <td>1.0</td>\n",
       "      <td>0</td>\n",
       "      <td>1</td>\n",
       "      <td>0.0</td>\n",
       "      <td>18468.0</td>\n",
       "      <td>Self Enquiry</td>\n",
       "      <td>8.0</td>\n",
       "      <td>3.0</td>\n",
       "      <td>Basic</td>\n",
       "      <td>5</td>\n",
       "    </tr>\n",
       "    <tr>\n",
       "      <th>...</th>\n",
       "      <td>...</td>\n",
       "      <td>...</td>\n",
       "      <td>...</td>\n",
       "      <td>...</td>\n",
       "      <td>...</td>\n",
       "      <td>...</td>\n",
       "      <td>...</td>\n",
       "      <td>...</td>\n",
       "      <td>...</td>\n",
       "      <td>...</td>\n",
       "      <td>...</td>\n",
       "      <td>...</td>\n",
       "      <td>...</td>\n",
       "      <td>...</td>\n",
       "      <td>...</td>\n",
       "      <td>...</td>\n",
       "      <td>...</td>\n",
       "    </tr>\n",
       "    <tr>\n",
       "      <th>4883</th>\n",
       "      <td>49.000000</td>\n",
       "      <td>3</td>\n",
       "      <td>Small Business</td>\n",
       "      <td>Male</td>\n",
       "      <td>3</td>\n",
       "      <td>4.0</td>\n",
       "      <td>Single</td>\n",
       "      <td>2.0</td>\n",
       "      <td>1</td>\n",
       "      <td>1</td>\n",
       "      <td>1.0</td>\n",
       "      <td>26576.0</td>\n",
       "      <td>Self Enquiry</td>\n",
       "      <td>9.0</td>\n",
       "      <td>5.0</td>\n",
       "      <td>Deluxe</td>\n",
       "      <td>1</td>\n",
       "    </tr>\n",
       "    <tr>\n",
       "      <th>4884</th>\n",
       "      <td>28.000000</td>\n",
       "      <td>1</td>\n",
       "      <td>Salaried</td>\n",
       "      <td>Male</td>\n",
       "      <td>4</td>\n",
       "      <td>3.0</td>\n",
       "      <td>Single</td>\n",
       "      <td>3.0</td>\n",
       "      <td>1</td>\n",
       "      <td>1</td>\n",
       "      <td>2.0</td>\n",
       "      <td>21212.0</td>\n",
       "      <td>Company Invited</td>\n",
       "      <td>31.0</td>\n",
       "      <td>5.0</td>\n",
       "      <td>Basic</td>\n",
       "      <td>3</td>\n",
       "    </tr>\n",
       "    <tr>\n",
       "      <th>4885</th>\n",
       "      <td>52.000000</td>\n",
       "      <td>3</td>\n",
       "      <td>Salaried</td>\n",
       "      <td>Female</td>\n",
       "      <td>4</td>\n",
       "      <td>4.0</td>\n",
       "      <td>Married</td>\n",
       "      <td>7.0</td>\n",
       "      <td>0</td>\n",
       "      <td>1</td>\n",
       "      <td>3.0</td>\n",
       "      <td>31820.0</td>\n",
       "      <td>Self Enquiry</td>\n",
       "      <td>17.0</td>\n",
       "      <td>4.0</td>\n",
       "      <td>Standard</td>\n",
       "      <td>1</td>\n",
       "    </tr>\n",
       "    <tr>\n",
       "      <th>4886</th>\n",
       "      <td>19.000000</td>\n",
       "      <td>3</td>\n",
       "      <td>Small Business</td>\n",
       "      <td>Male</td>\n",
       "      <td>3</td>\n",
       "      <td>3.0</td>\n",
       "      <td>Single</td>\n",
       "      <td>3.0</td>\n",
       "      <td>0</td>\n",
       "      <td>0</td>\n",
       "      <td>2.0</td>\n",
       "      <td>20289.0</td>\n",
       "      <td>Self Enquiry</td>\n",
       "      <td>16.0</td>\n",
       "      <td>4.0</td>\n",
       "      <td>Basic</td>\n",
       "      <td>5</td>\n",
       "    </tr>\n",
       "    <tr>\n",
       "      <th>4887</th>\n",
       "      <td>36.000000</td>\n",
       "      <td>1</td>\n",
       "      <td>Salaried</td>\n",
       "      <td>Male</td>\n",
       "      <td>4</td>\n",
       "      <td>4.0</td>\n",
       "      <td>Single</td>\n",
       "      <td>3.0</td>\n",
       "      <td>1</td>\n",
       "      <td>1</td>\n",
       "      <td>2.0</td>\n",
       "      <td>24041.0</td>\n",
       "      <td>Self Enquiry</td>\n",
       "      <td>14.0</td>\n",
       "      <td>4.0</td>\n",
       "      <td>Basic</td>\n",
       "      <td>3</td>\n",
       "    </tr>\n",
       "  </tbody>\n",
       "</table>\n",
       "<p>4888 rows × 17 columns</p>\n",
       "</div>"
      ],
      "text/plain": [
       "            age  citytier      occupation  gender  numberofpersonvisiting  \\\n",
       "0     41.000000         3        Salaried  Female                       3   \n",
       "1     49.000000         1        Salaried    Male                       3   \n",
       "2     37.000000         1     Free Lancer    Male                       3   \n",
       "3     33.000000         1        Salaried  Female                       2   \n",
       "4     37.622265         1  Small Business    Male                       2   \n",
       "...         ...       ...             ...     ...                     ...   \n",
       "4883  49.000000         3  Small Business    Male                       3   \n",
       "4884  28.000000         1        Salaried    Male                       4   \n",
       "4885  52.000000         3        Salaried  Female                       4   \n",
       "4886  19.000000         3  Small Business    Male                       3   \n",
       "4887  36.000000         1        Salaried    Male                       4   \n",
       "\n",
       "      preferredpropertystar maritalstatus  numberoftrips  passport  owncar  \\\n",
       "0                       3.0        Single            1.0         1       1   \n",
       "1                       4.0        Single            2.0         0       1   \n",
       "2                       3.0        Single            7.0         1       0   \n",
       "3                       3.0        Single            2.0         1       1   \n",
       "4                       4.0        Single            1.0         0       1   \n",
       "...                     ...           ...            ...       ...     ...   \n",
       "4883                    4.0        Single            2.0         1       1   \n",
       "4884                    3.0        Single            3.0         1       1   \n",
       "4885                    4.0       Married            7.0         0       1   \n",
       "4886                    3.0        Single            3.0         0       0   \n",
       "4887                    4.0        Single            3.0         1       1   \n",
       "\n",
       "      numberofchildrenvisiting  monthlyincome    typeofcontact  \\\n",
       "0                          0.0        20993.0     Self Enquiry   \n",
       "1                          2.0        20130.0  Company Invited   \n",
       "2                          0.0        17090.0     Self Enquiry   \n",
       "3                          1.0        17909.0  Company Invited   \n",
       "4                          0.0        18468.0     Self Enquiry   \n",
       "...                        ...            ...              ...   \n",
       "4883                       1.0        26576.0     Self Enquiry   \n",
       "4884                       2.0        21212.0  Company Invited   \n",
       "4885                       3.0        31820.0     Self Enquiry   \n",
       "4886                       2.0        20289.0     Self Enquiry   \n",
       "4887                       2.0        24041.0     Self Enquiry   \n",
       "\n",
       "      durationofpitch  numberoffollowups productpitched  \\\n",
       "0                 6.0                3.0         Deluxe   \n",
       "1                14.0                4.0         Deluxe   \n",
       "2                 8.0                4.0          Basic   \n",
       "3                 9.0                3.0          Basic   \n",
       "4                 8.0                3.0          Basic   \n",
       "...               ...                ...            ...   \n",
       "4883              9.0                5.0         Deluxe   \n",
       "4884             31.0                5.0          Basic   \n",
       "4885             17.0                4.0       Standard   \n",
       "4886             16.0                4.0          Basic   \n",
       "4887             14.0                4.0          Basic   \n",
       "\n",
       "      pitchsatisfactionscore  \n",
       "0                          2  \n",
       "1                          3  \n",
       "2                          3  \n",
       "3                          5  \n",
       "4                          5  \n",
       "...                      ...  \n",
       "4883                       1  \n",
       "4884                       3  \n",
       "4885                       1  \n",
       "4886                       5  \n",
       "4887                       3  \n",
       "\n",
       "[4888 rows x 17 columns]"
      ]
     },
     "execution_count": 5,
     "metadata": {},
     "output_type": "execute_result"
    }
   ],
   "source": [
    "#Drop columns not needed\n",
    "features_df = df.copy()\n",
    "features_df = df.drop([\"prodtaken\",\"customerid\",\"designation\"], axis=1)\n",
    "features_df"
   ]
  },
  {
   "cell_type": "markdown",
   "metadata": {},
   "source": [
    "# Split the Data into Training and Testing\n",
    "## Find Columns with Object Data Types and convert to Floats(numeric)"
   ]
  },
  {
   "cell_type": "code",
   "execution_count": 6,
   "metadata": {},
   "outputs": [
    {
     "data": {
      "text/plain": [
       "occupation        4\n",
       "gender            2\n",
       "maritalstatus     2\n",
       "typeofcontact     2\n",
       "productpitched    5\n",
       "dtype: int64"
      ]
     },
     "execution_count": 6,
     "metadata": {},
     "output_type": "execute_result"
    }
   ],
   "source": [
    "# Generate our categorical variable list\n",
    "features_df_cat = features_df.dtypes[features_df.dtypes == \"object\"].index.tolist()\n",
    "\n",
    "# Check the number of unique values in each column\n",
    "features_df[features_df_cat].nunique()"
   ]
  },
  {
   "cell_type": "code",
   "execution_count": 7,
   "metadata": {},
   "outputs": [
    {
     "data": {
      "text/html": [
       "<div>\n",
       "<style scoped>\n",
       "    .dataframe tbody tr th:only-of-type {\n",
       "        vertical-align: middle;\n",
       "    }\n",
       "\n",
       "    .dataframe tbody tr th {\n",
       "        vertical-align: top;\n",
       "    }\n",
       "\n",
       "    .dataframe thead th {\n",
       "        text-align: right;\n",
       "    }\n",
       "</style>\n",
       "<table border=\"1\" class=\"dataframe\">\n",
       "  <thead>\n",
       "    <tr style=\"text-align: right;\">\n",
       "      <th></th>\n",
       "      <th>occupation_Free Lancer</th>\n",
       "      <th>occupation_Large Business</th>\n",
       "      <th>occupation_Salaried</th>\n",
       "      <th>occupation_Small Business</th>\n",
       "      <th>gender_Female</th>\n",
       "      <th>gender_Male</th>\n",
       "      <th>maritalstatus_Married</th>\n",
       "      <th>maritalstatus_Single</th>\n",
       "      <th>typeofcontact_Company Invited</th>\n",
       "      <th>typeofcontact_Self Enquiry</th>\n",
       "      <th>typeofcontact_nan</th>\n",
       "      <th>productpitched_Basic</th>\n",
       "      <th>productpitched_Deluxe</th>\n",
       "      <th>productpitched_King</th>\n",
       "      <th>productpitched_Standard</th>\n",
       "      <th>productpitched_Super Deluxe</th>\n",
       "    </tr>\n",
       "  </thead>\n",
       "  <tbody>\n",
       "    <tr>\n",
       "      <th>0</th>\n",
       "      <td>0.0</td>\n",
       "      <td>0.0</td>\n",
       "      <td>1.0</td>\n",
       "      <td>0.0</td>\n",
       "      <td>1.0</td>\n",
       "      <td>0.0</td>\n",
       "      <td>0.0</td>\n",
       "      <td>1.0</td>\n",
       "      <td>0.0</td>\n",
       "      <td>1.0</td>\n",
       "      <td>0.0</td>\n",
       "      <td>0.0</td>\n",
       "      <td>1.0</td>\n",
       "      <td>0.0</td>\n",
       "      <td>0.0</td>\n",
       "      <td>0.0</td>\n",
       "    </tr>\n",
       "    <tr>\n",
       "      <th>1</th>\n",
       "      <td>0.0</td>\n",
       "      <td>0.0</td>\n",
       "      <td>1.0</td>\n",
       "      <td>0.0</td>\n",
       "      <td>0.0</td>\n",
       "      <td>1.0</td>\n",
       "      <td>0.0</td>\n",
       "      <td>1.0</td>\n",
       "      <td>1.0</td>\n",
       "      <td>0.0</td>\n",
       "      <td>0.0</td>\n",
       "      <td>0.0</td>\n",
       "      <td>1.0</td>\n",
       "      <td>0.0</td>\n",
       "      <td>0.0</td>\n",
       "      <td>0.0</td>\n",
       "    </tr>\n",
       "    <tr>\n",
       "      <th>2</th>\n",
       "      <td>1.0</td>\n",
       "      <td>0.0</td>\n",
       "      <td>0.0</td>\n",
       "      <td>0.0</td>\n",
       "      <td>0.0</td>\n",
       "      <td>1.0</td>\n",
       "      <td>0.0</td>\n",
       "      <td>1.0</td>\n",
       "      <td>0.0</td>\n",
       "      <td>1.0</td>\n",
       "      <td>0.0</td>\n",
       "      <td>1.0</td>\n",
       "      <td>0.0</td>\n",
       "      <td>0.0</td>\n",
       "      <td>0.0</td>\n",
       "      <td>0.0</td>\n",
       "    </tr>\n",
       "    <tr>\n",
       "      <th>3</th>\n",
       "      <td>0.0</td>\n",
       "      <td>0.0</td>\n",
       "      <td>1.0</td>\n",
       "      <td>0.0</td>\n",
       "      <td>1.0</td>\n",
       "      <td>0.0</td>\n",
       "      <td>0.0</td>\n",
       "      <td>1.0</td>\n",
       "      <td>1.0</td>\n",
       "      <td>0.0</td>\n",
       "      <td>0.0</td>\n",
       "      <td>1.0</td>\n",
       "      <td>0.0</td>\n",
       "      <td>0.0</td>\n",
       "      <td>0.0</td>\n",
       "      <td>0.0</td>\n",
       "    </tr>\n",
       "    <tr>\n",
       "      <th>4</th>\n",
       "      <td>0.0</td>\n",
       "      <td>0.0</td>\n",
       "      <td>0.0</td>\n",
       "      <td>1.0</td>\n",
       "      <td>0.0</td>\n",
       "      <td>1.0</td>\n",
       "      <td>0.0</td>\n",
       "      <td>1.0</td>\n",
       "      <td>0.0</td>\n",
       "      <td>1.0</td>\n",
       "      <td>0.0</td>\n",
       "      <td>1.0</td>\n",
       "      <td>0.0</td>\n",
       "      <td>0.0</td>\n",
       "      <td>0.0</td>\n",
       "      <td>0.0</td>\n",
       "    </tr>\n",
       "  </tbody>\n",
       "</table>\n",
       "</div>"
      ],
      "text/plain": [
       "   occupation_Free Lancer  occupation_Large Business  occupation_Salaried  \\\n",
       "0                     0.0                        0.0                  1.0   \n",
       "1                     0.0                        0.0                  1.0   \n",
       "2                     1.0                        0.0                  0.0   \n",
       "3                     0.0                        0.0                  1.0   \n",
       "4                     0.0                        0.0                  0.0   \n",
       "\n",
       "   occupation_Small Business  gender_Female  gender_Male  \\\n",
       "0                        0.0            1.0          0.0   \n",
       "1                        0.0            0.0          1.0   \n",
       "2                        0.0            0.0          1.0   \n",
       "3                        0.0            1.0          0.0   \n",
       "4                        1.0            0.0          1.0   \n",
       "\n",
       "   maritalstatus_Married  maritalstatus_Single  typeofcontact_Company Invited  \\\n",
       "0                    0.0                   1.0                            0.0   \n",
       "1                    0.0                   1.0                            1.0   \n",
       "2                    0.0                   1.0                            0.0   \n",
       "3                    0.0                   1.0                            1.0   \n",
       "4                    0.0                   1.0                            0.0   \n",
       "\n",
       "   typeofcontact_Self Enquiry  typeofcontact_nan  productpitched_Basic  \\\n",
       "0                         1.0                0.0                   0.0   \n",
       "1                         0.0                0.0                   0.0   \n",
       "2                         1.0                0.0                   1.0   \n",
       "3                         0.0                0.0                   1.0   \n",
       "4                         1.0                0.0                   1.0   \n",
       "\n",
       "   productpitched_Deluxe  productpitched_King  productpitched_Standard  \\\n",
       "0                    1.0                  0.0                      0.0   \n",
       "1                    1.0                  0.0                      0.0   \n",
       "2                    0.0                  0.0                      0.0   \n",
       "3                    0.0                  0.0                      0.0   \n",
       "4                    0.0                  0.0                      0.0   \n",
       "\n",
       "   productpitched_Super Deluxe  \n",
       "0                          0.0  \n",
       "1                          0.0  \n",
       "2                          0.0  \n",
       "3                          0.0  \n",
       "4                          0.0  "
      ]
     },
     "execution_count": 7,
     "metadata": {},
     "output_type": "execute_result"
    }
   ],
   "source": [
    "# Create a OneHotEncoder instance\n",
    "enc = OneHotEncoder(sparse=False)\n",
    "\n",
    "# Fit and transform the OneHotEncoder using the categorical variable list\n",
    "encode_df = pd.DataFrame(enc.fit_transform(features_df[features_df_cat]))\n",
    "\n",
    "# Add the encoded variable names to the dataframe\n",
    "encode_df.columns = enc.get_feature_names(features_df_cat)\n",
    "encode_df.head()"
   ]
  },
  {
   "cell_type": "code",
   "execution_count": 8,
   "metadata": {},
   "outputs": [
    {
     "data": {
      "text/html": [
       "<div>\n",
       "<style scoped>\n",
       "    .dataframe tbody tr th:only-of-type {\n",
       "        vertical-align: middle;\n",
       "    }\n",
       "\n",
       "    .dataframe tbody tr th {\n",
       "        vertical-align: top;\n",
       "    }\n",
       "\n",
       "    .dataframe thead th {\n",
       "        text-align: right;\n",
       "    }\n",
       "</style>\n",
       "<table border=\"1\" class=\"dataframe\">\n",
       "  <thead>\n",
       "    <tr style=\"text-align: right;\">\n",
       "      <th></th>\n",
       "      <th>age</th>\n",
       "      <th>citytier</th>\n",
       "      <th>numberofpersonvisiting</th>\n",
       "      <th>preferredpropertystar</th>\n",
       "      <th>numberoftrips</th>\n",
       "      <th>passport</th>\n",
       "      <th>owncar</th>\n",
       "      <th>numberofchildrenvisiting</th>\n",
       "      <th>monthlyincome</th>\n",
       "      <th>durationofpitch</th>\n",
       "      <th>...</th>\n",
       "      <th>maritalstatus_Married</th>\n",
       "      <th>maritalstatus_Single</th>\n",
       "      <th>typeofcontact_Company Invited</th>\n",
       "      <th>typeofcontact_Self Enquiry</th>\n",
       "      <th>typeofcontact_nan</th>\n",
       "      <th>productpitched_Basic</th>\n",
       "      <th>productpitched_Deluxe</th>\n",
       "      <th>productpitched_King</th>\n",
       "      <th>productpitched_Standard</th>\n",
       "      <th>productpitched_Super Deluxe</th>\n",
       "    </tr>\n",
       "  </thead>\n",
       "  <tbody>\n",
       "    <tr>\n",
       "      <th>0</th>\n",
       "      <td>41.000000</td>\n",
       "      <td>3</td>\n",
       "      <td>3</td>\n",
       "      <td>3.0</td>\n",
       "      <td>1.0</td>\n",
       "      <td>1</td>\n",
       "      <td>1</td>\n",
       "      <td>0.0</td>\n",
       "      <td>20993.0</td>\n",
       "      <td>6.0</td>\n",
       "      <td>...</td>\n",
       "      <td>0.0</td>\n",
       "      <td>1.0</td>\n",
       "      <td>0.0</td>\n",
       "      <td>1.0</td>\n",
       "      <td>0.0</td>\n",
       "      <td>0.0</td>\n",
       "      <td>1.0</td>\n",
       "      <td>0.0</td>\n",
       "      <td>0.0</td>\n",
       "      <td>0.0</td>\n",
       "    </tr>\n",
       "    <tr>\n",
       "      <th>1</th>\n",
       "      <td>49.000000</td>\n",
       "      <td>1</td>\n",
       "      <td>3</td>\n",
       "      <td>4.0</td>\n",
       "      <td>2.0</td>\n",
       "      <td>0</td>\n",
       "      <td>1</td>\n",
       "      <td>2.0</td>\n",
       "      <td>20130.0</td>\n",
       "      <td>14.0</td>\n",
       "      <td>...</td>\n",
       "      <td>0.0</td>\n",
       "      <td>1.0</td>\n",
       "      <td>1.0</td>\n",
       "      <td>0.0</td>\n",
       "      <td>0.0</td>\n",
       "      <td>0.0</td>\n",
       "      <td>1.0</td>\n",
       "      <td>0.0</td>\n",
       "      <td>0.0</td>\n",
       "      <td>0.0</td>\n",
       "    </tr>\n",
       "    <tr>\n",
       "      <th>2</th>\n",
       "      <td>37.000000</td>\n",
       "      <td>1</td>\n",
       "      <td>3</td>\n",
       "      <td>3.0</td>\n",
       "      <td>7.0</td>\n",
       "      <td>1</td>\n",
       "      <td>0</td>\n",
       "      <td>0.0</td>\n",
       "      <td>17090.0</td>\n",
       "      <td>8.0</td>\n",
       "      <td>...</td>\n",
       "      <td>0.0</td>\n",
       "      <td>1.0</td>\n",
       "      <td>0.0</td>\n",
       "      <td>1.0</td>\n",
       "      <td>0.0</td>\n",
       "      <td>1.0</td>\n",
       "      <td>0.0</td>\n",
       "      <td>0.0</td>\n",
       "      <td>0.0</td>\n",
       "      <td>0.0</td>\n",
       "    </tr>\n",
       "    <tr>\n",
       "      <th>3</th>\n",
       "      <td>33.000000</td>\n",
       "      <td>1</td>\n",
       "      <td>2</td>\n",
       "      <td>3.0</td>\n",
       "      <td>2.0</td>\n",
       "      <td>1</td>\n",
       "      <td>1</td>\n",
       "      <td>1.0</td>\n",
       "      <td>17909.0</td>\n",
       "      <td>9.0</td>\n",
       "      <td>...</td>\n",
       "      <td>0.0</td>\n",
       "      <td>1.0</td>\n",
       "      <td>1.0</td>\n",
       "      <td>0.0</td>\n",
       "      <td>0.0</td>\n",
       "      <td>1.0</td>\n",
       "      <td>0.0</td>\n",
       "      <td>0.0</td>\n",
       "      <td>0.0</td>\n",
       "      <td>0.0</td>\n",
       "    </tr>\n",
       "    <tr>\n",
       "      <th>4</th>\n",
       "      <td>37.622265</td>\n",
       "      <td>1</td>\n",
       "      <td>2</td>\n",
       "      <td>4.0</td>\n",
       "      <td>1.0</td>\n",
       "      <td>0</td>\n",
       "      <td>1</td>\n",
       "      <td>0.0</td>\n",
       "      <td>18468.0</td>\n",
       "      <td>8.0</td>\n",
       "      <td>...</td>\n",
       "      <td>0.0</td>\n",
       "      <td>1.0</td>\n",
       "      <td>0.0</td>\n",
       "      <td>1.0</td>\n",
       "      <td>0.0</td>\n",
       "      <td>1.0</td>\n",
       "      <td>0.0</td>\n",
       "      <td>0.0</td>\n",
       "      <td>0.0</td>\n",
       "      <td>0.0</td>\n",
       "    </tr>\n",
       "  </tbody>\n",
       "</table>\n",
       "<p>5 rows × 28 columns</p>\n",
       "</div>"
      ],
      "text/plain": [
       "         age  citytier  numberofpersonvisiting  preferredpropertystar  \\\n",
       "0  41.000000         3                       3                    3.0   \n",
       "1  49.000000         1                       3                    4.0   \n",
       "2  37.000000         1                       3                    3.0   \n",
       "3  33.000000         1                       2                    3.0   \n",
       "4  37.622265         1                       2                    4.0   \n",
       "\n",
       "   numberoftrips  passport  owncar  numberofchildrenvisiting  monthlyincome  \\\n",
       "0            1.0         1       1                       0.0        20993.0   \n",
       "1            2.0         0       1                       2.0        20130.0   \n",
       "2            7.0         1       0                       0.0        17090.0   \n",
       "3            2.0         1       1                       1.0        17909.0   \n",
       "4            1.0         0       1                       0.0        18468.0   \n",
       "\n",
       "   durationofpitch  ...  maritalstatus_Married  maritalstatus_Single  \\\n",
       "0              6.0  ...                    0.0                   1.0   \n",
       "1             14.0  ...                    0.0                   1.0   \n",
       "2              8.0  ...                    0.0                   1.0   \n",
       "3              9.0  ...                    0.0                   1.0   \n",
       "4              8.0  ...                    0.0                   1.0   \n",
       "\n",
       "   typeofcontact_Company Invited  typeofcontact_Self Enquiry  \\\n",
       "0                            0.0                         1.0   \n",
       "1                            1.0                         0.0   \n",
       "2                            0.0                         1.0   \n",
       "3                            1.0                         0.0   \n",
       "4                            0.0                         1.0   \n",
       "\n",
       "   typeofcontact_nan  productpitched_Basic  productpitched_Deluxe  \\\n",
       "0                0.0                   0.0                    1.0   \n",
       "1                0.0                   0.0                    1.0   \n",
       "2                0.0                   1.0                    0.0   \n",
       "3                0.0                   1.0                    0.0   \n",
       "4                0.0                   1.0                    0.0   \n",
       "\n",
       "   productpitched_King  productpitched_Standard  productpitched_Super Deluxe  \n",
       "0                  0.0                      0.0                          0.0  \n",
       "1                  0.0                      0.0                          0.0  \n",
       "2                  0.0                      0.0                          0.0  \n",
       "3                  0.0                      0.0                          0.0  \n",
       "4                  0.0                      0.0                          0.0  \n",
       "\n",
       "[5 rows x 28 columns]"
      ]
     },
     "execution_count": 8,
     "metadata": {},
     "output_type": "execute_result"
    }
   ],
   "source": [
    "# Merge one-hot encoded features and drop the originals\n",
    "features_df = features_df.merge(encode_df,left_index=True, right_index=True)\n",
    "features_df = features_df.drop(features_df_cat,1)\n",
    "features_df.head()"
   ]
  },
  {
   "cell_type": "code",
   "execution_count": 9,
   "metadata": {},
   "outputs": [
    {
     "data": {
      "text/html": [
       "<div>\n",
       "<style scoped>\n",
       "    .dataframe tbody tr th:only-of-type {\n",
       "        vertical-align: middle;\n",
       "    }\n",
       "\n",
       "    .dataframe tbody tr th {\n",
       "        vertical-align: top;\n",
       "    }\n",
       "\n",
       "    .dataframe thead th {\n",
       "        text-align: right;\n",
       "    }\n",
       "</style>\n",
       "<table border=\"1\" class=\"dataframe\">\n",
       "  <thead>\n",
       "    <tr style=\"text-align: right;\">\n",
       "      <th></th>\n",
       "      <th>age</th>\n",
       "      <th>citytier</th>\n",
       "      <th>numberofpersonvisiting</th>\n",
       "      <th>preferredpropertystar</th>\n",
       "      <th>numberoftrips</th>\n",
       "      <th>passport</th>\n",
       "      <th>owncar</th>\n",
       "      <th>numberofchildrenvisiting</th>\n",
       "      <th>monthlyincome</th>\n",
       "      <th>durationofpitch</th>\n",
       "      <th>...</th>\n",
       "      <th>maritalstatus_Married</th>\n",
       "      <th>maritalstatus_Single</th>\n",
       "      <th>typeofcontact_Company Invited</th>\n",
       "      <th>typeofcontact_Self Enquiry</th>\n",
       "      <th>typeofcontact_nan</th>\n",
       "      <th>productpitched_Basic</th>\n",
       "      <th>productpitched_Deluxe</th>\n",
       "      <th>productpitched_King</th>\n",
       "      <th>productpitched_Standard</th>\n",
       "      <th>productpitched_Super Deluxe</th>\n",
       "    </tr>\n",
       "  </thead>\n",
       "  <tbody>\n",
       "    <tr>\n",
       "      <th>0</th>\n",
       "      <td>41.000000</td>\n",
       "      <td>3</td>\n",
       "      <td>3</td>\n",
       "      <td>3.0</td>\n",
       "      <td>1.0</td>\n",
       "      <td>1</td>\n",
       "      <td>1</td>\n",
       "      <td>0.0</td>\n",
       "      <td>20993.0</td>\n",
       "      <td>6.0</td>\n",
       "      <td>...</td>\n",
       "      <td>0.0</td>\n",
       "      <td>1.0</td>\n",
       "      <td>0.0</td>\n",
       "      <td>1.0</td>\n",
       "      <td>0.0</td>\n",
       "      <td>0.0</td>\n",
       "      <td>1.0</td>\n",
       "      <td>0.0</td>\n",
       "      <td>0.0</td>\n",
       "      <td>0.0</td>\n",
       "    </tr>\n",
       "    <tr>\n",
       "      <th>1</th>\n",
       "      <td>49.000000</td>\n",
       "      <td>1</td>\n",
       "      <td>3</td>\n",
       "      <td>4.0</td>\n",
       "      <td>2.0</td>\n",
       "      <td>0</td>\n",
       "      <td>1</td>\n",
       "      <td>2.0</td>\n",
       "      <td>20130.0</td>\n",
       "      <td>14.0</td>\n",
       "      <td>...</td>\n",
       "      <td>0.0</td>\n",
       "      <td>1.0</td>\n",
       "      <td>1.0</td>\n",
       "      <td>0.0</td>\n",
       "      <td>0.0</td>\n",
       "      <td>0.0</td>\n",
       "      <td>1.0</td>\n",
       "      <td>0.0</td>\n",
       "      <td>0.0</td>\n",
       "      <td>0.0</td>\n",
       "    </tr>\n",
       "    <tr>\n",
       "      <th>2</th>\n",
       "      <td>37.000000</td>\n",
       "      <td>1</td>\n",
       "      <td>3</td>\n",
       "      <td>3.0</td>\n",
       "      <td>7.0</td>\n",
       "      <td>1</td>\n",
       "      <td>0</td>\n",
       "      <td>0.0</td>\n",
       "      <td>17090.0</td>\n",
       "      <td>8.0</td>\n",
       "      <td>...</td>\n",
       "      <td>0.0</td>\n",
       "      <td>1.0</td>\n",
       "      <td>0.0</td>\n",
       "      <td>1.0</td>\n",
       "      <td>0.0</td>\n",
       "      <td>1.0</td>\n",
       "      <td>0.0</td>\n",
       "      <td>0.0</td>\n",
       "      <td>0.0</td>\n",
       "      <td>0.0</td>\n",
       "    </tr>\n",
       "    <tr>\n",
       "      <th>3</th>\n",
       "      <td>33.000000</td>\n",
       "      <td>1</td>\n",
       "      <td>2</td>\n",
       "      <td>3.0</td>\n",
       "      <td>2.0</td>\n",
       "      <td>1</td>\n",
       "      <td>1</td>\n",
       "      <td>1.0</td>\n",
       "      <td>17909.0</td>\n",
       "      <td>9.0</td>\n",
       "      <td>...</td>\n",
       "      <td>0.0</td>\n",
       "      <td>1.0</td>\n",
       "      <td>1.0</td>\n",
       "      <td>0.0</td>\n",
       "      <td>0.0</td>\n",
       "      <td>1.0</td>\n",
       "      <td>0.0</td>\n",
       "      <td>0.0</td>\n",
       "      <td>0.0</td>\n",
       "      <td>0.0</td>\n",
       "    </tr>\n",
       "    <tr>\n",
       "      <th>4</th>\n",
       "      <td>37.622265</td>\n",
       "      <td>1</td>\n",
       "      <td>2</td>\n",
       "      <td>4.0</td>\n",
       "      <td>1.0</td>\n",
       "      <td>0</td>\n",
       "      <td>1</td>\n",
       "      <td>0.0</td>\n",
       "      <td>18468.0</td>\n",
       "      <td>8.0</td>\n",
       "      <td>...</td>\n",
       "      <td>0.0</td>\n",
       "      <td>1.0</td>\n",
       "      <td>0.0</td>\n",
       "      <td>1.0</td>\n",
       "      <td>0.0</td>\n",
       "      <td>1.0</td>\n",
       "      <td>0.0</td>\n",
       "      <td>0.0</td>\n",
       "      <td>0.0</td>\n",
       "      <td>0.0</td>\n",
       "    </tr>\n",
       "    <tr>\n",
       "      <th>...</th>\n",
       "      <td>...</td>\n",
       "      <td>...</td>\n",
       "      <td>...</td>\n",
       "      <td>...</td>\n",
       "      <td>...</td>\n",
       "      <td>...</td>\n",
       "      <td>...</td>\n",
       "      <td>...</td>\n",
       "      <td>...</td>\n",
       "      <td>...</td>\n",
       "      <td>...</td>\n",
       "      <td>...</td>\n",
       "      <td>...</td>\n",
       "      <td>...</td>\n",
       "      <td>...</td>\n",
       "      <td>...</td>\n",
       "      <td>...</td>\n",
       "      <td>...</td>\n",
       "      <td>...</td>\n",
       "      <td>...</td>\n",
       "      <td>...</td>\n",
       "    </tr>\n",
       "    <tr>\n",
       "      <th>4883</th>\n",
       "      <td>49.000000</td>\n",
       "      <td>3</td>\n",
       "      <td>3</td>\n",
       "      <td>4.0</td>\n",
       "      <td>2.0</td>\n",
       "      <td>1</td>\n",
       "      <td>1</td>\n",
       "      <td>1.0</td>\n",
       "      <td>26576.0</td>\n",
       "      <td>9.0</td>\n",
       "      <td>...</td>\n",
       "      <td>0.0</td>\n",
       "      <td>1.0</td>\n",
       "      <td>0.0</td>\n",
       "      <td>1.0</td>\n",
       "      <td>0.0</td>\n",
       "      <td>0.0</td>\n",
       "      <td>1.0</td>\n",
       "      <td>0.0</td>\n",
       "      <td>0.0</td>\n",
       "      <td>0.0</td>\n",
       "    </tr>\n",
       "    <tr>\n",
       "      <th>4884</th>\n",
       "      <td>28.000000</td>\n",
       "      <td>1</td>\n",
       "      <td>4</td>\n",
       "      <td>3.0</td>\n",
       "      <td>3.0</td>\n",
       "      <td>1</td>\n",
       "      <td>1</td>\n",
       "      <td>2.0</td>\n",
       "      <td>21212.0</td>\n",
       "      <td>31.0</td>\n",
       "      <td>...</td>\n",
       "      <td>0.0</td>\n",
       "      <td>1.0</td>\n",
       "      <td>1.0</td>\n",
       "      <td>0.0</td>\n",
       "      <td>0.0</td>\n",
       "      <td>1.0</td>\n",
       "      <td>0.0</td>\n",
       "      <td>0.0</td>\n",
       "      <td>0.0</td>\n",
       "      <td>0.0</td>\n",
       "    </tr>\n",
       "    <tr>\n",
       "      <th>4885</th>\n",
       "      <td>52.000000</td>\n",
       "      <td>3</td>\n",
       "      <td>4</td>\n",
       "      <td>4.0</td>\n",
       "      <td>7.0</td>\n",
       "      <td>0</td>\n",
       "      <td>1</td>\n",
       "      <td>3.0</td>\n",
       "      <td>31820.0</td>\n",
       "      <td>17.0</td>\n",
       "      <td>...</td>\n",
       "      <td>1.0</td>\n",
       "      <td>0.0</td>\n",
       "      <td>0.0</td>\n",
       "      <td>1.0</td>\n",
       "      <td>0.0</td>\n",
       "      <td>0.0</td>\n",
       "      <td>0.0</td>\n",
       "      <td>0.0</td>\n",
       "      <td>1.0</td>\n",
       "      <td>0.0</td>\n",
       "    </tr>\n",
       "    <tr>\n",
       "      <th>4886</th>\n",
       "      <td>19.000000</td>\n",
       "      <td>3</td>\n",
       "      <td>3</td>\n",
       "      <td>3.0</td>\n",
       "      <td>3.0</td>\n",
       "      <td>0</td>\n",
       "      <td>0</td>\n",
       "      <td>2.0</td>\n",
       "      <td>20289.0</td>\n",
       "      <td>16.0</td>\n",
       "      <td>...</td>\n",
       "      <td>0.0</td>\n",
       "      <td>1.0</td>\n",
       "      <td>0.0</td>\n",
       "      <td>1.0</td>\n",
       "      <td>0.0</td>\n",
       "      <td>1.0</td>\n",
       "      <td>0.0</td>\n",
       "      <td>0.0</td>\n",
       "      <td>0.0</td>\n",
       "      <td>0.0</td>\n",
       "    </tr>\n",
       "    <tr>\n",
       "      <th>4887</th>\n",
       "      <td>36.000000</td>\n",
       "      <td>1</td>\n",
       "      <td>4</td>\n",
       "      <td>4.0</td>\n",
       "      <td>3.0</td>\n",
       "      <td>1</td>\n",
       "      <td>1</td>\n",
       "      <td>2.0</td>\n",
       "      <td>24041.0</td>\n",
       "      <td>14.0</td>\n",
       "      <td>...</td>\n",
       "      <td>0.0</td>\n",
       "      <td>1.0</td>\n",
       "      <td>0.0</td>\n",
       "      <td>1.0</td>\n",
       "      <td>0.0</td>\n",
       "      <td>1.0</td>\n",
       "      <td>0.0</td>\n",
       "      <td>0.0</td>\n",
       "      <td>0.0</td>\n",
       "      <td>0.0</td>\n",
       "    </tr>\n",
       "  </tbody>\n",
       "</table>\n",
       "<p>4888 rows × 28 columns</p>\n",
       "</div>"
      ],
      "text/plain": [
       "            age  citytier  numberofpersonvisiting  preferredpropertystar  \\\n",
       "0     41.000000         3                       3                    3.0   \n",
       "1     49.000000         1                       3                    4.0   \n",
       "2     37.000000         1                       3                    3.0   \n",
       "3     33.000000         1                       2                    3.0   \n",
       "4     37.622265         1                       2                    4.0   \n",
       "...         ...       ...                     ...                    ...   \n",
       "4883  49.000000         3                       3                    4.0   \n",
       "4884  28.000000         1                       4                    3.0   \n",
       "4885  52.000000         3                       4                    4.0   \n",
       "4886  19.000000         3                       3                    3.0   \n",
       "4887  36.000000         1                       4                    4.0   \n",
       "\n",
       "      numberoftrips  passport  owncar  numberofchildrenvisiting  \\\n",
       "0               1.0         1       1                       0.0   \n",
       "1               2.0         0       1                       2.0   \n",
       "2               7.0         1       0                       0.0   \n",
       "3               2.0         1       1                       1.0   \n",
       "4               1.0         0       1                       0.0   \n",
       "...             ...       ...     ...                       ...   \n",
       "4883            2.0         1       1                       1.0   \n",
       "4884            3.0         1       1                       2.0   \n",
       "4885            7.0         0       1                       3.0   \n",
       "4886            3.0         0       0                       2.0   \n",
       "4887            3.0         1       1                       2.0   \n",
       "\n",
       "      monthlyincome  durationofpitch  ...  maritalstatus_Married  \\\n",
       "0           20993.0              6.0  ...                    0.0   \n",
       "1           20130.0             14.0  ...                    0.0   \n",
       "2           17090.0              8.0  ...                    0.0   \n",
       "3           17909.0              9.0  ...                    0.0   \n",
       "4           18468.0              8.0  ...                    0.0   \n",
       "...             ...              ...  ...                    ...   \n",
       "4883        26576.0              9.0  ...                    0.0   \n",
       "4884        21212.0             31.0  ...                    0.0   \n",
       "4885        31820.0             17.0  ...                    1.0   \n",
       "4886        20289.0             16.0  ...                    0.0   \n",
       "4887        24041.0             14.0  ...                    0.0   \n",
       "\n",
       "      maritalstatus_Single  typeofcontact_Company Invited  \\\n",
       "0                      1.0                            0.0   \n",
       "1                      1.0                            1.0   \n",
       "2                      1.0                            0.0   \n",
       "3                      1.0                            1.0   \n",
       "4                      1.0                            0.0   \n",
       "...                    ...                            ...   \n",
       "4883                   1.0                            0.0   \n",
       "4884                   1.0                            1.0   \n",
       "4885                   0.0                            0.0   \n",
       "4886                   1.0                            0.0   \n",
       "4887                   1.0                            0.0   \n",
       "\n",
       "      typeofcontact_Self Enquiry  typeofcontact_nan  productpitched_Basic  \\\n",
       "0                            1.0                0.0                   0.0   \n",
       "1                            0.0                0.0                   0.0   \n",
       "2                            1.0                0.0                   1.0   \n",
       "3                            0.0                0.0                   1.0   \n",
       "4                            1.0                0.0                   1.0   \n",
       "...                          ...                ...                   ...   \n",
       "4883                         1.0                0.0                   0.0   \n",
       "4884                         0.0                0.0                   1.0   \n",
       "4885                         1.0                0.0                   0.0   \n",
       "4886                         1.0                0.0                   1.0   \n",
       "4887                         1.0                0.0                   1.0   \n",
       "\n",
       "      productpitched_Deluxe  productpitched_King  productpitched_Standard  \\\n",
       "0                       1.0                  0.0                      0.0   \n",
       "1                       1.0                  0.0                      0.0   \n",
       "2                       0.0                  0.0                      0.0   \n",
       "3                       0.0                  0.0                      0.0   \n",
       "4                       0.0                  0.0                      0.0   \n",
       "...                     ...                  ...                      ...   \n",
       "4883                    1.0                  0.0                      0.0   \n",
       "4884                    0.0                  0.0                      0.0   \n",
       "4885                    0.0                  0.0                      1.0   \n",
       "4886                    0.0                  0.0                      0.0   \n",
       "4887                    0.0                  0.0                      0.0   \n",
       "\n",
       "      productpitched_Super Deluxe  \n",
       "0                             0.0  \n",
       "1                             0.0  \n",
       "2                             0.0  \n",
       "3                             0.0  \n",
       "4                             0.0  \n",
       "...                           ...  \n",
       "4883                          0.0  \n",
       "4884                          0.0  \n",
       "4885                          0.0  \n",
       "4886                          0.0  \n",
       "4887                          0.0  \n",
       "\n",
       "[4888 rows x 28 columns]"
      ]
     },
     "execution_count": 9,
     "metadata": {},
     "output_type": "execute_result"
    }
   ],
   "source": [
    "# Define the features set.\n",
    "X = features_df.copy()\n",
    "X"
   ]
  },
  {
   "cell_type": "code",
   "execution_count": 10,
   "metadata": {},
   "outputs": [],
   "source": [
    "# Define the target set.\n",
    "y = df[\"prodtaken\"]\n"
   ]
  },
  {
   "cell_type": "code",
   "execution_count": 11,
   "metadata": {},
   "outputs": [
    {
     "data": {
      "text/plain": [
       "0    3968\n",
       "1     920\n",
       "Name: prodtaken, dtype: int64"
      ]
     },
     "execution_count": 11,
     "metadata": {},
     "output_type": "execute_result"
    }
   ],
   "source": [
    "# Check the balance of our target values\n",
    "y.value_counts()"
   ]
  },
  {
   "cell_type": "code",
   "execution_count": 12,
   "metadata": {},
   "outputs": [],
   "source": [
    "# Scale and Normalize Data\n",
    "data_scaled=StandardScaler()"
   ]
  },
  {
   "cell_type": "code",
   "execution_count": 13,
   "metadata": {},
   "outputs": [
    {
     "data": {
      "text/plain": [
       "array([[ 0.37128216,  1.46836869,  0.13096606, -0.73012744, -1.22740375,\n",
       "         1.56122135,  0.78239198, -1.39356846, -0.50032202, -1.14387064,\n",
       "        -0.71002119, -0.78947679, -0.02023197, -0.31215461,  1.03159546,\n",
       "        -0.86210438,  1.21601884, -1.21601884, -0.95831485,  0.95831485,\n",
       "        -0.63957142,  0.64751827, -0.07169979, -0.77764228,  1.34987811,\n",
       "        -0.22221029, -0.42304572, -0.27428265]])"
      ]
     },
     "execution_count": 13,
     "metadata": {},
     "output_type": "execute_result"
    }
   ],
   "source": [
    "# fit and transfor data\n",
    "X_scaled=data_scaled.fit_transform(X)\n",
    "X_scaled[:1]"
   ]
  },
  {
   "cell_type": "code",
   "execution_count": 14,
   "metadata": {},
   "outputs": [],
   "source": [
    "#Test and Train of the dataset\n",
    "X_train, X_test, y_train, y_test = train_test_split(X_scaled, y, random_state=78)"
   ]
  },
  {
   "cell_type": "code",
   "execution_count": 15,
   "metadata": {},
   "outputs": [
    {
     "data": {
      "text/plain": [
       "0    2988\n",
       "1     678\n",
       "Name: prodtaken, dtype: int64"
      ]
     },
     "execution_count": 15,
     "metadata": {},
     "output_type": "execute_result"
    }
   ],
   "source": [
    "# Check the balance of our target values\n",
    "y_train.value_counts()"
   ]
  },
  {
   "cell_type": "code",
   "execution_count": 16,
   "metadata": {},
   "outputs": [
    {
     "name": "stdout",
     "output_type": "stream",
     "text": [
      "Counter({0: 2988, 1: 678})\n",
      "Counter({0: 980, 1: 242})\n"
     ]
    }
   ],
   "source": [
    "#Checking the train vs test allocation\n",
    "print(Counter(y_train))\n",
    "print(Counter(y_test))"
   ]
  },
  {
   "cell_type": "code",
   "execution_count": 17,
   "metadata": {},
   "outputs": [
    {
     "data": {
      "text/plain": [
       "LogisticRegression(random_state=1)"
      ]
     },
     "execution_count": 17,
     "metadata": {},
     "output_type": "execute_result"
    }
   ],
   "source": [
    "#Logistic Regression for reference\n",
    "classifier = LogisticRegression(solver = 'lbfgs', random_state=1)\n",
    "classifier"
   ]
  },
  {
   "cell_type": "code",
   "execution_count": 18,
   "metadata": {},
   "outputs": [
    {
     "data": {
      "text/plain": [
       "LogisticRegression(random_state=1)"
      ]
     },
     "execution_count": 18,
     "metadata": {},
     "output_type": "execute_result"
    }
   ],
   "source": [
    "#fit our model with our data\n",
    "classifier.fit(X_train, y_train) "
   ]
  },
  {
   "cell_type": "code",
   "execution_count": 19,
   "metadata": {},
   "outputs": [
    {
     "data": {
      "text/plain": [
       "array([0, 0, 0, ..., 0, 0, 0], dtype=int64)"
      ]
     },
     "execution_count": 19,
     "metadata": {},
     "output_type": "execute_result"
    }
   ],
   "source": [
    "#create Y predictions\n",
    "y_pred = classifier.predict(X_test)\n",
    "y_pred"
   ]
  },
  {
   "cell_type": "code",
   "execution_count": 20,
   "metadata": {},
   "outputs": [
    {
     "data": {
      "text/plain": [
       "Prediction  Actual\n",
       "0           0         949\n",
       "            1         184\n",
       "1           1          58\n",
       "            0          31\n",
       "dtype: int64"
      ]
     },
     "execution_count": 20,
     "metadata": {},
     "output_type": "execute_result"
    }
   ],
   "source": [
    "#View Data\n",
    "# Calculate Model Accuracy\n",
    "pd.DataFrame({\"Prediction\" :y_pred, \"Actual\": y_test}).value_counts()"
   ]
  },
  {
   "cell_type": "code",
   "execution_count": 21,
   "metadata": {},
   "outputs": [
    {
     "data": {
      "text/plain": [
       "0.8240589198036007"
      ]
     },
     "execution_count": 21,
     "metadata": {},
     "output_type": "execute_result"
    }
   ],
   "source": [
    "#Calcualte model accuracy\n",
    "accuracy_score(y_test, y_pred)"
   ]
  },
  {
   "cell_type": "code",
   "execution_count": 22,
   "metadata": {},
   "outputs": [
    {
     "name": "stdout",
     "output_type": "stream",
     "text": [
      "[[949  31]\n",
      " [184  58]]\n"
     ]
    }
   ],
   "source": [
    "# Create Confusion Matrix\n",
    "cm = confusion_matrix(y_test, y_pred)\n",
    "print(cm)"
   ]
  },
  {
   "cell_type": "code",
   "execution_count": 23,
   "metadata": {},
   "outputs": [
    {
     "data": {
      "image/png": "[encoded data removed]",
      "text/plain": [
       "<Figure size 432x288 with 2 Axes>"
      ]
     },
     "metadata": {
      "needs_background": "light"
     },
     "output_type": "display_data"
    }
   ],
   "source": [
    "#ConfusionMatrixDisplay to show confusion matrix\n",
    "display = ConfusionMatrixDisplay(confusion_matrix=cm,display_labels=classifier.classes_)\n",
    "display.plot()\n",
    "\n",
    "#Save Image\n",
    "#plt.savefig(\"../Images/CRR_TrainSplitFirst_confusion_matrix.png\")\n",
    "plt.show()"
   ]
  },
  {
   "cell_type": "code",
   "execution_count": 24,
   "metadata": {},
   "outputs": [
    {
     "name": "stdout",
     "output_type": "stream",
     "text": [
      "              precision    recall  f1-score   support\n",
      "\n",
      "           0       0.84      0.97      0.90       980\n",
      "           1       0.65      0.24      0.35       242\n",
      "\n",
      "    accuracy                           0.82      1222\n",
      "   macro avg       0.74      0.60      0.62      1222\n",
      "weighted avg       0.80      0.82      0.79      1222\n",
      "\n"
     ]
    }
   ],
   "source": [
    "#classification report\n",
    "report = classification_report(y_test, y_pred)\n",
    "print(report)"
   ]
  },
  {
   "cell_type": "code",
   "execution_count": 25,
   "metadata": {},
   "outputs": [
    {
     "name": "stdout",
     "output_type": "stream",
     "text": [
      "                   pre       rec       spe        f1       geo       iba       sup\n",
      "\n",
      "          0       0.84      0.97      0.24      0.90      0.48      0.25       980\n",
      "          1       0.65      0.24      0.97      0.35      0.48      0.22       242\n",
      "\n",
      "avg / total       0.80      0.82      0.38      0.79      0.48      0.24      1222\n",
      "\n"
     ]
    }
   ],
   "source": [
    "#Imbalanced Classification Report\n",
    "report = classification_report_imbalanced(y_test, y_pred)\n",
    "print(report)"
   ]
  },
  {
   "cell_type": "markdown",
   "metadata": {},
   "source": [
    "# Oversampling"
   ]
  },
  {
   "cell_type": "markdown",
   "metadata": {},
   "source": [
    "### Naive Random Oversampling"
   ]
  },
  {
   "cell_type": "code",
   "execution_count": 26,
   "metadata": {},
   "outputs": [
    {
     "data": {
      "text/plain": [
       "Counter({0: 2988, 1: 2988})"
      ]
     },
     "execution_count": 26,
     "metadata": {},
     "output_type": "execute_result"
    }
   ],
   "source": [
    "# Resample the training data with the RandomOversampler\n",
    "ros = RandomOverSampler(random_state=1)\n",
    "X_resampled, y_resampled = ros.fit_resample(X_train, y_train)\n",
    "#Checks the Balance\n",
    "Counter(y_resampled)"
   ]
  },
  {
   "cell_type": "code",
   "execution_count": 27,
   "metadata": {},
   "outputs": [
    {
     "data": {
      "text/plain": [
       "LogisticRegression(random_state=1)"
      ]
     },
     "execution_count": 27,
     "metadata": {},
     "output_type": "execute_result"
    }
   ],
   "source": [
    "# Train the Logistic Regression model using the resampled data\n",
    "model = LogisticRegression(solver='lbfgs', random_state=1)\n",
    "model.fit(X_resampled, y_resampled)"
   ]
  },
  {
   "cell_type": "code",
   "execution_count": 28,
   "metadata": {},
   "outputs": [
    {
     "data": {
      "text/plain": [
       "0.71350986675662"
      ]
     },
     "execution_count": 28,
     "metadata": {},
     "output_type": "execute_result"
    }
   ],
   "source": [
    "# Fit \n",
    "y_pred = model.predict(X_test)\n",
    "\n",
    "#Calculated the balanced accuracy score\n",
    "balanced_accuracy_score(y_test, y_pred)"
   ]
  },
  {
   "cell_type": "code",
   "execution_count": 29,
   "metadata": {},
   "outputs": [
    {
     "data": {
      "text/html": [
       "<div>\n",
       "<style scoped>\n",
       "    .dataframe tbody tr th:only-of-type {\n",
       "        vertical-align: middle;\n",
       "    }\n",
       "\n",
       "    .dataframe tbody tr th {\n",
       "        vertical-align: top;\n",
       "    }\n",
       "\n",
       "    .dataframe thead th {\n",
       "        text-align: right;\n",
       "    }\n",
       "</style>\n",
       "<table border=\"1\" class=\"dataframe\">\n",
       "  <thead>\n",
       "    <tr style=\"text-align: right;\">\n",
       "      <th></th>\n",
       "      <th>Pred ProdTaken 0</th>\n",
       "      <th>Pred ProdTaken 1</th>\n",
       "    </tr>\n",
       "  </thead>\n",
       "  <tbody>\n",
       "    <tr>\n",
       "      <th>Act ProdTaken 0</th>\n",
       "      <td>706</td>\n",
       "      <td>274</td>\n",
       "    </tr>\n",
       "    <tr>\n",
       "      <th>Act ProdTaken 1</th>\n",
       "      <td>71</td>\n",
       "      <td>171</td>\n",
       "    </tr>\n",
       "  </tbody>\n",
       "</table>\n",
       "</div>"
      ],
      "text/plain": [
       "                 Pred ProdTaken 0  Pred ProdTaken 1\n",
       "Act ProdTaken 0               706               274\n",
       "Act ProdTaken 1                71               171"
      ]
     },
     "execution_count": 29,
     "metadata": {},
     "output_type": "execute_result"
    }
   ],
   "source": [
    "# Display the confusion matrix\n",
    "cm = confusion_matrix(y_test, y_pred, labels=model.classes_)\n",
    "cm_df = pd.DataFrame(\n",
    "    cm, index=[\"Act ProdTaken 0\", \"Act ProdTaken 1\"], columns=[\"Pred ProdTaken 0\", \"Pred ProdTaken 1\"])\n",
    "\n",
    "cm_df"
   ]
  },
  {
   "cell_type": "code",
   "execution_count": 30,
   "metadata": {},
   "outputs": [
    {
     "name": "stdout",
     "output_type": "stream",
     "text": [
      "Naive Random Sampling\n",
      "                   pre       rec       spe        f1       geo       iba       sup\n",
      "\n",
      "          0       0.91      0.72      0.71      0.80      0.71      0.51       980\n",
      "          1       0.38      0.71      0.72      0.50      0.71      0.51       242\n",
      "\n",
      "avg / total       0.80      0.72      0.71      0.74      0.71      0.51      1222\n",
      "\n"
     ]
    }
   ],
   "source": [
    "# Print the imbalanced classification report\n",
    "print(\"Naive Random Sampling\")\n",
    "print(classification_report_imbalanced(y_test, y_pred))"
   ]
  },
  {
   "cell_type": "code",
   "execution_count": 31,
   "metadata": {},
   "outputs": [
    {
     "data": {
      "image/png": "[encoded data removed]",
      "text/plain": [
       "<Figure size 432x288 with 2 Axes>"
      ]
     },
     "metadata": {
      "needs_background": "light"
     },
     "output_type": "display_data"
    }
   ],
   "source": [
    "#ConfusionMatrixDisplay to show confusion matrix\n",
    "display = ConfusionMatrixDisplay(confusion_matrix=cm,display_labels=classifier.classes_)\n",
    "display.plot()\n",
    "\n",
    "#Save Image\n",
    "#plt.savefig(\"../Images/NaiveRandomOverSampler_confusion_matrix.png\")\n",
    "plt.show()"
   ]
  },
  {
   "cell_type": "markdown",
   "metadata": {},
   "source": [
    "### SMOTE Oversampling"
   ]
  },
  {
   "cell_type": "code",
   "execution_count": 32,
   "metadata": {},
   "outputs": [
    {
     "data": {
      "text/plain": [
       "Counter({0: 2988, 1: 2988})"
      ]
     },
     "execution_count": 32,
     "metadata": {},
     "output_type": "execute_result"
    }
   ],
   "source": [
    "# Resample the training data with SMOTE\n",
    "X_resampled, y_resampled = SMOTE(random_state=1,\n",
    "sampling_strategy='auto').fit_resample(\n",
    "   X_train, y_train)\n",
    "\n",
    "#Result\n",
    "Counter(y_resampled)"
   ]
  },
  {
   "cell_type": "code",
   "execution_count": 33,
   "metadata": {},
   "outputs": [
    {
     "data": {
      "text/plain": [
       "LogisticRegression(random_state=1)"
      ]
     },
     "execution_count": 33,
     "metadata": {},
     "output_type": "execute_result"
    }
   ],
   "source": [
    "# Train the Logistic Regression model using the resampled data\n",
    "model = LogisticRegression(solver='lbfgs', random_state=1)\n",
    "model.fit(X_resampled, y_resampled)"
   ]
  },
  {
   "cell_type": "code",
   "execution_count": 34,
   "metadata": {},
   "outputs": [
    {
     "data": {
      "text/plain": [
       "0.7129996626749873"
      ]
     },
     "execution_count": 34,
     "metadata": {},
     "output_type": "execute_result"
    }
   ],
   "source": [
    "# Calculated the balanced accuracy score\n",
    "y_pred = model.predict(X_test)\n",
    "balanced_accuracy_score(y_test, y_pred)"
   ]
  },
  {
   "cell_type": "code",
   "execution_count": 35,
   "metadata": {},
   "outputs": [
    {
     "data": {
      "text/html": [
       "<div>\n",
       "<style scoped>\n",
       "    .dataframe tbody tr th:only-of-type {\n",
       "        vertical-align: middle;\n",
       "    }\n",
       "\n",
       "    .dataframe tbody tr th {\n",
       "        vertical-align: top;\n",
       "    }\n",
       "\n",
       "    .dataframe thead th {\n",
       "        text-align: right;\n",
       "    }\n",
       "</style>\n",
       "<table border=\"1\" class=\"dataframe\">\n",
       "  <thead>\n",
       "    <tr style=\"text-align: right;\">\n",
       "      <th></th>\n",
       "      <th>Pred ProdTaken 0</th>\n",
       "      <th>Pred ProdTaken 1</th>\n",
       "    </tr>\n",
       "  </thead>\n",
       "  <tbody>\n",
       "    <tr>\n",
       "      <th>Act ProdTaken 0</th>\n",
       "      <td>705</td>\n",
       "      <td>275</td>\n",
       "    </tr>\n",
       "    <tr>\n",
       "      <th>Act ProdTaken 1</th>\n",
       "      <td>71</td>\n",
       "      <td>171</td>\n",
       "    </tr>\n",
       "  </tbody>\n",
       "</table>\n",
       "</div>"
      ],
      "text/plain": [
       "                 Pred ProdTaken 0  Pred ProdTaken 1\n",
       "Act ProdTaken 0               705               275\n",
       "Act ProdTaken 1                71               171"
      ]
     },
     "execution_count": 35,
     "metadata": {},
     "output_type": "execute_result"
    }
   ],
   "source": [
    "# Display the confusion matrix\n",
    "cm = confusion_matrix(y_test, y_pred)\n",
    "cm_df = pd.DataFrame(\n",
    "    cm, index=[\"Act ProdTaken 0\", \"Act ProdTaken 1\"], columns=[\"Pred ProdTaken 0\", \"Pred ProdTaken 1\"])\n",
    "\n",
    "cm_df"
   ]
  },
  {
   "cell_type": "code",
   "execution_count": 36,
   "metadata": {},
   "outputs": [
    {
     "data": {
      "image/png": "[encoded data removed]",
      "text/plain": [
       "<Figure size 432x288 with 2 Axes>"
      ]
     },
     "metadata": {
      "needs_background": "light"
     },
     "output_type": "display_data"
    }
   ],
   "source": [
    "#ConfusionMatrixDisplay to show confusion matrix\n",
    "display = ConfusionMatrixDisplay(confusion_matrix=cm,display_labels=classifier.classes_)\n",
    "display.plot()\n",
    "\n",
    "#Save Image\n",
    "#plt.savefig(\"../Images/SMOTEOverSampler_confusion_matrix.png\")\n",
    "plt.show()"
   ]
  },
  {
   "cell_type": "code",
   "execution_count": 37,
   "metadata": {},
   "outputs": [
    {
     "name": "stdout",
     "output_type": "stream",
     "text": [
      "SMOTE Oversampling\n",
      "                   pre       rec       spe        f1       geo       iba       sup\n",
      "\n",
      "          0       0.91      0.72      0.71      0.80      0.71      0.51       980\n",
      "          1       0.38      0.71      0.72      0.50      0.71      0.51       242\n",
      "\n",
      "avg / total       0.80      0.72      0.71      0.74      0.71      0.51      1222\n",
      "\n"
     ]
    }
   ],
   "source": [
    "# Print the imbalanced classification report\n",
    "# Print the imbalanced classification report\n",
    "print(\"SMOTE Oversampling\")\n",
    "print(classification_report_imbalanced(y_test, y_pred))"
   ]
  },
  {
   "cell_type": "markdown",
   "metadata": {},
   "source": [
    "# Undersampling"
   ]
  },
  {
   "cell_type": "code",
   "execution_count": 38,
   "metadata": {},
   "outputs": [
    {
     "data": {
      "text/plain": [
       "Counter({0: 678, 1: 678})"
      ]
     },
     "execution_count": 38,
     "metadata": {},
     "output_type": "execute_result"
    }
   ],
   "source": [
    "# Resample the data using the ClusterCentroids resampler\n",
    "# Warning: This is a large dataset, and this step may take some time to complete\n",
    "cc = ClusterCentroids(random_state=1)\n",
    "X_resampled, y_resampled = cc.fit_resample(X_train, y_train)\n",
    "Counter(y_resampled)"
   ]
  },
  {
   "cell_type": "code",
   "execution_count": 39,
   "metadata": {},
   "outputs": [
    {
     "data": {
      "text/plain": [
       "LogisticRegression(random_state=1)"
      ]
     },
     "execution_count": 39,
     "metadata": {},
     "output_type": "execute_result"
    }
   ],
   "source": [
    "# Train the Logistic Regression model using the resampled data\n",
    "model = LogisticRegression(solver='lbfgs', random_state=1)\n",
    "model.fit(X_resampled, y_resampled)"
   ]
  },
  {
   "cell_type": "code",
   "execution_count": 40,
   "metadata": {},
   "outputs": [
    {
     "data": {
      "text/plain": [
       "0.711034744476303"
      ]
     },
     "execution_count": 40,
     "metadata": {},
     "output_type": "execute_result"
    }
   ],
   "source": [
    "# Calculated the balanced accuracy score\n",
    "y_pred = model.predict(X_test)\n",
    "balanced_accuracy_score(y_test, y_pred)"
   ]
  },
  {
   "cell_type": "code",
   "execution_count": 41,
   "metadata": {},
   "outputs": [
    {
     "data": {
      "text/html": [
       "<div>\n",
       "<style scoped>\n",
       "    .dataframe tbody tr th:only-of-type {\n",
       "        vertical-align: middle;\n",
       "    }\n",
       "\n",
       "    .dataframe tbody tr th {\n",
       "        vertical-align: top;\n",
       "    }\n",
       "\n",
       "    .dataframe thead th {\n",
       "        text-align: right;\n",
       "    }\n",
       "</style>\n",
       "<table border=\"1\" class=\"dataframe\">\n",
       "  <thead>\n",
       "    <tr style=\"text-align: right;\">\n",
       "      <th></th>\n",
       "      <th>Pred ProdTaken 0</th>\n",
       "      <th>Pred ProdTaken 1</th>\n",
       "    </tr>\n",
       "  </thead>\n",
       "  <tbody>\n",
       "    <tr>\n",
       "      <th>Act ProdTaken 0</th>\n",
       "      <td>689</td>\n",
       "      <td>291</td>\n",
       "    </tr>\n",
       "    <tr>\n",
       "      <th>Act ProdTaken 1</th>\n",
       "      <td>68</td>\n",
       "      <td>174</td>\n",
       "    </tr>\n",
       "  </tbody>\n",
       "</table>\n",
       "</div>"
      ],
      "text/plain": [
       "                 Pred ProdTaken 0  Pred ProdTaken 1\n",
       "Act ProdTaken 0               689               291\n",
       "Act ProdTaken 1                68               174"
      ]
     },
     "execution_count": 41,
     "metadata": {},
     "output_type": "execute_result"
    }
   ],
   "source": [
    "# Display the confusion matrix\n",
    "cm = confusion_matrix(y_test, y_pred, labels=model.classes_)\n",
    "cm_df = pd.DataFrame(\n",
    "    cm, index=[\"Act ProdTaken 0\", \"Act ProdTaken 1\"], columns=[\"Pred ProdTaken 0\", \"Pred ProdTaken 1\"])\n",
    "\n",
    "cm_df"
   ]
  },
  {
   "cell_type": "code",
   "execution_count": 42,
   "metadata": {},
   "outputs": [
    {
     "data": {
      "image/png": "[encoded data removed]",
      "text/plain": [
       "<Figure size 432x288 with 2 Axes>"
      ]
     },
     "metadata": {
      "needs_background": "light"
     },
     "output_type": "display_data"
    }
   ],
   "source": [
    "#ConfusionMatrixDisplay to show confusion matrix\n",
    "display = ConfusionMatrixDisplay(confusion_matrix=cm,display_labels=model.classes_)\n",
    "display.plot()\n",
    "\n",
    "#Save Image\n",
    "#plt.savefig(\"../Images/ClusterCentroidUnderSampler_confusion_matrix.png\")\n",
    "plt.show()"
   ]
  },
  {
   "cell_type": "code",
   "execution_count": 43,
   "metadata": {},
   "outputs": [
    {
     "name": "stdout",
     "output_type": "stream",
     "text": [
      "Cluster Centroid Undersampling\n",
      "                   pre       rec       spe        f1       geo       iba       sup\n",
      "\n",
      "          0       0.91      0.70      0.72      0.79      0.71      0.50       980\n",
      "          1       0.37      0.72      0.70      0.49      0.71      0.51       242\n",
      "\n",
      "avg / total       0.80      0.71      0.72      0.73      0.71      0.51      1222\n",
      "\n"
     ]
    }
   ],
   "source": [
    "# Print the imbalanced classification report\n",
    "print(\"Cluster Centroid Undersampling\")\n",
    "print(classification_report_imbalanced(y_test, y_pred))"
   ]
  },
  {
   "cell_type": "markdown",
   "metadata": {
    "tags": []
   },
   "source": [
    "# Combination (Over and Under) Sampling\n",
    "\n",
    "SMOTEENN"
   ]
  },
  {
   "cell_type": "code",
   "execution_count": 44,
   "metadata": {},
   "outputs": [
    {
     "data": {
      "text/plain": [
       "Counter({0: 2318, 1: 2912})"
      ]
     },
     "execution_count": 44,
     "metadata": {},
     "output_type": "execute_result"
    }
   ],
   "source": [
    "# Resample the training data with SMOTEENN\n",
    "# Warning: This is a large dataset, and this step may take some time to complete\n",
    "smote_enn = SMOTEENN(random_state=0)\n",
    "X_resampled, y_resampled = smote_enn.fit_resample(X_train, y_train)\n",
    "#X_resampled, y_resampled = SMOTE(random_state=1, sampling_strategy='auto').fit_resample(X_train, y_train)\n",
    "Counter(y_resampled)"
   ]
  },
  {
   "cell_type": "code",
   "execution_count": 45,
   "metadata": {},
   "outputs": [
    {
     "data": {
      "text/plain": [
       "LogisticRegression(random_state=1)"
      ]
     },
     "execution_count": 45,
     "metadata": {},
     "output_type": "execute_result"
    }
   ],
   "source": [
    "# Train the Logistic Regression model using the resampled data\n",
    "\n",
    "model = LogisticRegression(solver='lbfgs', random_state=1)\n",
    "model.fit(X_resampled, y_resampled)"
   ]
  },
  {
   "cell_type": "code",
   "execution_count": 46,
   "metadata": {},
   "outputs": [
    {
     "data": {
      "text/plain": [
       "0.7036093776353517"
      ]
     },
     "execution_count": 46,
     "metadata": {},
     "output_type": "execute_result"
    }
   ],
   "source": [
    "# Calculated the balanced accuracy score\n",
    "\n",
    "y_pred = model.predict(X_test)\n",
    "balanced_accuracy_score(y_test, y_pred)"
   ]
  },
  {
   "cell_type": "code",
   "execution_count": 47,
   "metadata": {},
   "outputs": [
    {
     "data": {
      "text/html": [
       "<div>\n",
       "<style scoped>\n",
       "    .dataframe tbody tr th:only-of-type {\n",
       "        vertical-align: middle;\n",
       "    }\n",
       "\n",
       "    .dataframe tbody tr th {\n",
       "        vertical-align: top;\n",
       "    }\n",
       "\n",
       "    .dataframe thead th {\n",
       "        text-align: right;\n",
       "    }\n",
       "</style>\n",
       "<table border=\"1\" class=\"dataframe\">\n",
       "  <thead>\n",
       "    <tr style=\"text-align: right;\">\n",
       "      <th></th>\n",
       "      <th>Pred ProdTaken 0</th>\n",
       "      <th>Pred ProdTaken 1</th>\n",
       "    </tr>\n",
       "  </thead>\n",
       "  <tbody>\n",
       "    <tr>\n",
       "      <th>Act ProdTaken 0</th>\n",
       "      <td>638</td>\n",
       "      <td>342</td>\n",
       "    </tr>\n",
       "    <tr>\n",
       "      <th>Act ProdTaken 1</th>\n",
       "      <td>59</td>\n",
       "      <td>183</td>\n",
       "    </tr>\n",
       "  </tbody>\n",
       "</table>\n",
       "</div>"
      ],
      "text/plain": [
       "                 Pred ProdTaken 0  Pred ProdTaken 1\n",
       "Act ProdTaken 0               638               342\n",
       "Act ProdTaken 1                59               183"
      ]
     },
     "execution_count": 47,
     "metadata": {},
     "output_type": "execute_result"
    }
   ],
   "source": [
    "# Display the confusion matrix\n",
    "\n",
    "#y_pred = model.predict(X_test)\n",
    "#confusion_matrix(y_test, y_pred)\n",
    "\n",
    "cm = confusion_matrix(y_test, y_pred)\n",
    "cm_df = pd.DataFrame(\n",
    "    cm, index=[\"Act ProdTaken 0\", \"Act ProdTaken 1\"], columns=[\"Pred ProdTaken 0\", \"Pred ProdTaken 1\"])\n",
    "\n",
    "cm_df"
   ]
  },
  {
   "cell_type": "code",
   "execution_count": 48,
   "metadata": {},
   "outputs": [
    {
     "data": {
      "image/png": "[encoded data removed]",
      "text/plain": [
       "<Figure size 432x288 with 2 Axes>"
      ]
     },
     "metadata": {
      "needs_background": "light"
     },
     "output_type": "display_data"
    }
   ],
   "source": [
    "#ConfusionMatrixDisplay to show confusion matrix\n",
    "display = ConfusionMatrixDisplay(confusion_matrix=cm,display_labels=model.classes_)\n",
    "display.plot()\n",
    "\n",
    "#Save Image\n",
    "#plt.savefig(\"../Images/SMOTEENOverUnderSampler_confusion_matrix.png\")\n",
    "plt.show()"
   ]
  },
  {
   "cell_type": "code",
   "execution_count": 49,
   "metadata": {},
   "outputs": [
    {
     "name": "stdout",
     "output_type": "stream",
     "text": [
      "SMOTEEN Over and Undersampling\n",
      "                   pre       rec       spe        f1       geo       iba       sup\n",
      "\n",
      "          0       0.92      0.65      0.76      0.76      0.70      0.49       980\n",
      "          1       0.35      0.76      0.65      0.48      0.70      0.50       242\n",
      "\n",
      "avg / total       0.80      0.67      0.74      0.70      0.70      0.49      1222\n",
      "\n"
     ]
    }
   ],
   "source": [
    "# Print the imbalanced classification report\n",
    "print(\"SMOTEEN Over and Undersampling\")\n",
    "print(classification_report_imbalanced(y_test, y_pred))"
   ]
  },
  {
   "cell_type": "code",
   "execution_count": null,
   "metadata": {},
   "outputs": [],
   "source": []
  },
  {
   "cell_type": "code",
   "execution_count": null,
   "metadata": {},
   "outputs": [],
   "source": []
  }
 ],
 "metadata": {
  "kernelspec": {
   "display_name": "mlenv",
   "language": "python",
   "name": "mlenv"
  },
  "language_info": {
   "codemirror_mode": {
    "name": "ipython",
    "version": 3
   },
   "file_extension": ".py",
   "mimetype": "text/x-python",
   "name": "python",
   "nbconvert_exporter": "python",
   "pygments_lexer": "ipython3",
   "version": "3.7.11"
  }
 },
 "nbformat": 4,
 "nbformat_minor": 4
}
