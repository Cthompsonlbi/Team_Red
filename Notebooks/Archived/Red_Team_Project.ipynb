{
 "cells": [
  {
   "cell_type": "code",
   "execution_count": 3,
   "id": "4d8e0b83-5647-4d57-8b85-48baee3f092a",
   "metadata": {},
   "outputs": [],
   "source": [
    "from path import Path\n",
    "import pandas as pd\n",
    "\n",
    "from sklearn.preprocessing import StandardScaler\n",
    "from sklearn.model_selection import train_test_split\n",
    "from sklearn.linear_model import LogisticRegression\n",
    "from sklearn.preprocessing import OneHotEncoder\n",
    "from sklearn.ensemble import RandomForestClassifier\n",
    "from sklearn.metrics import confusion_matrix, accuracy_score, classification_report"
   ]
  },
  {
   "cell_type": "code",
   "execution_count": 4,
   "id": "1e4d96d1-9866-40ea-a0e1-be9ca586370b",
   "metadata": {},
   "outputs": [
    {
     "data": {
      "text/html": [
       "<div>\n",
       "<style scoped>\n",
       "    .dataframe tbody tr th:only-of-type {\n",
       "        vertical-align: middle;\n",
       "    }\n",
       "\n",
       "    .dataframe tbody tr th {\n",
       "        vertical-align: top;\n",
       "    }\n",
       "\n",
       "    .dataframe thead th {\n",
       "        text-align: right;\n",
       "    }\n",
       "</style>\n",
       "<table border=\"1\" class=\"dataframe\">\n",
       "  <thead>\n",
       "    <tr style=\"text-align: right;\">\n",
       "      <th></th>\n",
       "      <th>CustomerID</th>\n",
       "      <th>ProdTaken</th>\n",
       "      <th>Age</th>\n",
       "      <th>TypeofContact</th>\n",
       "      <th>CityTier</th>\n",
       "      <th>DurationOfPitch</th>\n",
       "      <th>Occupation</th>\n",
       "      <th>Gender</th>\n",
       "      <th>NumberOfPersonVisiting</th>\n",
       "      <th>NumberOfFollowups</th>\n",
       "      <th>ProductPitched</th>\n",
       "      <th>PreferredPropertyStar</th>\n",
       "      <th>MaritalStatus</th>\n",
       "      <th>NumberOfTrips</th>\n",
       "      <th>Passport</th>\n",
       "      <th>PitchSatisfactionScore</th>\n",
       "      <th>OwnCar</th>\n",
       "      <th>NumberOfChildrenVisiting</th>\n",
       "      <th>Designation</th>\n",
       "      <th>MonthlyIncome</th>\n",
       "    </tr>\n",
       "  </thead>\n",
       "  <tbody>\n",
       "    <tr>\n",
       "      <th>0</th>\n",
       "      <td>200000</td>\n",
       "      <td>1</td>\n",
       "      <td>41.0</td>\n",
       "      <td>Self Enquiry</td>\n",
       "      <td>3</td>\n",
       "      <td>6.0</td>\n",
       "      <td>Salaried</td>\n",
       "      <td>Female</td>\n",
       "      <td>3</td>\n",
       "      <td>3.0</td>\n",
       "      <td>Deluxe</td>\n",
       "      <td>3.0</td>\n",
       "      <td>Single</td>\n",
       "      <td>1.0</td>\n",
       "      <td>1</td>\n",
       "      <td>2</td>\n",
       "      <td>1</td>\n",
       "      <td>0.0</td>\n",
       "      <td>Manager</td>\n",
       "      <td>20993.0</td>\n",
       "    </tr>\n",
       "    <tr>\n",
       "      <th>1</th>\n",
       "      <td>200001</td>\n",
       "      <td>0</td>\n",
       "      <td>49.0</td>\n",
       "      <td>Company Invited</td>\n",
       "      <td>1</td>\n",
       "      <td>14.0</td>\n",
       "      <td>Salaried</td>\n",
       "      <td>Male</td>\n",
       "      <td>3</td>\n",
       "      <td>4.0</td>\n",
       "      <td>Deluxe</td>\n",
       "      <td>4.0</td>\n",
       "      <td>Divorced</td>\n",
       "      <td>2.0</td>\n",
       "      <td>0</td>\n",
       "      <td>3</td>\n",
       "      <td>1</td>\n",
       "      <td>2.0</td>\n",
       "      <td>Manager</td>\n",
       "      <td>20130.0</td>\n",
       "    </tr>\n",
       "    <tr>\n",
       "      <th>2</th>\n",
       "      <td>200002</td>\n",
       "      <td>1</td>\n",
       "      <td>37.0</td>\n",
       "      <td>Self Enquiry</td>\n",
       "      <td>1</td>\n",
       "      <td>8.0</td>\n",
       "      <td>Free Lancer</td>\n",
       "      <td>Male</td>\n",
       "      <td>3</td>\n",
       "      <td>4.0</td>\n",
       "      <td>Basic</td>\n",
       "      <td>3.0</td>\n",
       "      <td>Single</td>\n",
       "      <td>7.0</td>\n",
       "      <td>1</td>\n",
       "      <td>3</td>\n",
       "      <td>0</td>\n",
       "      <td>0.0</td>\n",
       "      <td>Executive</td>\n",
       "      <td>17090.0</td>\n",
       "    </tr>\n",
       "    <tr>\n",
       "      <th>3</th>\n",
       "      <td>200003</td>\n",
       "      <td>0</td>\n",
       "      <td>33.0</td>\n",
       "      <td>Company Invited</td>\n",
       "      <td>1</td>\n",
       "      <td>9.0</td>\n",
       "      <td>Salaried</td>\n",
       "      <td>Female</td>\n",
       "      <td>2</td>\n",
       "      <td>3.0</td>\n",
       "      <td>Basic</td>\n",
       "      <td>3.0</td>\n",
       "      <td>Divorced</td>\n",
       "      <td>2.0</td>\n",
       "      <td>1</td>\n",
       "      <td>5</td>\n",
       "      <td>1</td>\n",
       "      <td>1.0</td>\n",
       "      <td>Executive</td>\n",
       "      <td>17909.0</td>\n",
       "    </tr>\n",
       "    <tr>\n",
       "      <th>4</th>\n",
       "      <td>200004</td>\n",
       "      <td>0</td>\n",
       "      <td>NaN</td>\n",
       "      <td>Self Enquiry</td>\n",
       "      <td>1</td>\n",
       "      <td>8.0</td>\n",
       "      <td>Small Business</td>\n",
       "      <td>Male</td>\n",
       "      <td>2</td>\n",
       "      <td>3.0</td>\n",
       "      <td>Basic</td>\n",
       "      <td>4.0</td>\n",
       "      <td>Divorced</td>\n",
       "      <td>1.0</td>\n",
       "      <td>0</td>\n",
       "      <td>5</td>\n",
       "      <td>1</td>\n",
       "      <td>0.0</td>\n",
       "      <td>Executive</td>\n",
       "      <td>18468.0</td>\n",
       "    </tr>\n",
       "  </tbody>\n",
       "</table>\n",
       "</div>"
      ],
      "text/plain": [
       "   CustomerID  ProdTaken   Age    TypeofContact  CityTier  DurationOfPitch  \\\n",
       "0      200000          1  41.0     Self Enquiry         3              6.0   \n",
       "1      200001          0  49.0  Company Invited         1             14.0   \n",
       "2      200002          1  37.0     Self Enquiry         1              8.0   \n",
       "3      200003          0  33.0  Company Invited         1              9.0   \n",
       "4      200004          0   NaN     Self Enquiry         1              8.0   \n",
       "\n",
       "       Occupation  Gender  NumberOfPersonVisiting  NumberOfFollowups  \\\n",
       "0        Salaried  Female                       3                3.0   \n",
       "1        Salaried    Male                       3                4.0   \n",
       "2     Free Lancer    Male                       3                4.0   \n",
       "3        Salaried  Female                       2                3.0   \n",
       "4  Small Business    Male                       2                3.0   \n",
       "\n",
       "  ProductPitched  PreferredPropertyStar MaritalStatus  NumberOfTrips  \\\n",
       "0         Deluxe                    3.0        Single            1.0   \n",
       "1         Deluxe                    4.0      Divorced            2.0   \n",
       "2          Basic                    3.0        Single            7.0   \n",
       "3          Basic                    3.0      Divorced            2.0   \n",
       "4          Basic                    4.0      Divorced            1.0   \n",
       "\n",
       "   Passport  PitchSatisfactionScore  OwnCar  NumberOfChildrenVisiting  \\\n",
       "0         1                       2       1                       0.0   \n",
       "1         0                       3       1                       2.0   \n",
       "2         1                       3       0                       0.0   \n",
       "3         1                       5       1                       1.0   \n",
       "4         0                       5       1                       0.0   \n",
       "\n",
       "  Designation  MonthlyIncome  \n",
       "0     Manager        20993.0  \n",
       "1     Manager        20130.0  \n",
       "2   Executive        17090.0  \n",
       "3   Executive        17909.0  \n",
       "4   Executive        18468.0  "
      ]
     },
     "execution_count": 4,
     "metadata": {},
     "output_type": "execute_result"
    }
   ],
   "source": [
    "data = Path('../Resources/Travel.csv')\n",
    "vacay_df = pd.read_csv(data)\n",
    "vacay_df.head()"
   ]
  },
  {
   "cell_type": "code",
   "execution_count": 3,
   "id": "46a561d7-fc92-4291-9858-c4ffce22925c",
   "metadata": {},
   "outputs": [
    {
     "data": {
      "text/plain": [
       "CustomerID                  4888\n",
       "ProdTaken                   4888\n",
       "Age                         4662\n",
       "TypeofContact               4863\n",
       "CityTier                    4888\n",
       "DurationOfPitch             4637\n",
       "Occupation                  4888\n",
       "Gender                      4888\n",
       "NumberOfPersonVisiting      4888\n",
       "NumberOfFollowups           4843\n",
       "ProductPitched              4888\n",
       "PreferredPropertyStar       4862\n",
       "MaritalStatus               4888\n",
       "NumberOfTrips               4748\n",
       "Passport                    4888\n",
       "PitchSatisfactionScore      4888\n",
       "OwnCar                      4888\n",
       "NumberOfChildrenVisiting    4822\n",
       "Designation                 4888\n",
       "MonthlyIncome               4655\n",
       "dtype: int64"
      ]
     },
     "execution_count": 3,
     "metadata": {},
     "output_type": "execute_result"
    }
   ],
   "source": [
    "# Verify row Count to look for null or NaN data\n",
    "vacay_df.count()"
   ]
  },
  {
   "cell_type": "code",
   "execution_count": 4,
   "id": "9b28677c-2b1f-4fe6-a7a2-a07d7fbc2786",
   "metadata": {},
   "outputs": [],
   "source": [
    "#Drop the rows from data frame that are missing values\n",
    "vacay_df.dropna(inplace = True)"
   ]
  },
  {
   "cell_type": "code",
   "execution_count": 5,
   "id": "8107e131-f43d-44cd-8fa1-39de00eadf33",
   "metadata": {},
   "outputs": [
    {
     "data": {
      "text/plain": [
       "CustomerID                  4128\n",
       "ProdTaken                   4128\n",
       "Age                         4128\n",
       "TypeofContact               4128\n",
       "CityTier                    4128\n",
       "DurationOfPitch             4128\n",
       "Occupation                  4128\n",
       "Gender                      4128\n",
       "NumberOfPersonVisiting      4128\n",
       "NumberOfFollowups           4128\n",
       "ProductPitched              4128\n",
       "PreferredPropertyStar       4128\n",
       "MaritalStatus               4128\n",
       "NumberOfTrips               4128\n",
       "Passport                    4128\n",
       "PitchSatisfactionScore      4128\n",
       "OwnCar                      4128\n",
       "NumberOfChildrenVisiting    4128\n",
       "Designation                 4128\n",
       "MonthlyIncome               4128\n",
       "dtype: int64"
      ]
     },
     "execution_count": 5,
     "metadata": {},
     "output_type": "execute_result"
    }
   ],
   "source": [
    "# Verify null/NaN rows were dropped and new values returned to DF\n",
    "vacay_df.count()"
   ]
  },
  {
   "cell_type": "code",
   "execution_count": 6,
   "id": "e97acce2-9b0b-448c-9b01-2711c6fc2f52",
   "metadata": {},
   "outputs": [],
   "source": [
    "# Separate the Features (X) from the Target (y)\n",
    "y = vacay_df[\"ProdTaken\"]\n",
    "X = vacay_df.drop(columns=\"ProdTaken\")"
   ]
  },
  {
   "cell_type": "code",
   "execution_count": 7,
   "id": "6534e4df-229b-4fa2-a62e-68d71a7b4193",
   "metadata": {},
   "outputs": [
    {
     "data": {
      "text/plain": [
       "0    0.806928\n",
       "1    0.193072\n",
       "Name: ProdTaken, dtype: float64"
      ]
     },
     "execution_count": 7,
     "metadata": {},
     "output_type": "execute_result"
    }
   ],
   "source": [
    "#Check the balance of the model\n",
    "y.value_counts(\"ProdTaken\")"
   ]
  },
  {
   "cell_type": "code",
   "execution_count": 8,
   "id": "395e4129-4afa-4088-b8ef-319bc70f5e26",
   "metadata": {},
   "outputs": [
    {
     "data": {
      "text/plain": [
       "ProdTaken\n",
       "0    3331\n",
       "1     797\n",
       "dtype: int64"
      ]
     },
     "execution_count": 8,
     "metadata": {},
     "output_type": "execute_result"
    }
   ],
   "source": [
    "#Check the balance of the model\n",
    "vacay_df.value_counts(\"ProdTaken\")"
   ]
  },
  {
   "cell_type": "code",
   "execution_count": 9,
   "id": "3394c984-4754-40a6-84c1-be40c1d3701e",
   "metadata": {},
   "outputs": [
    {
     "data": {
      "text/plain": [
       "CustomerID                    int64\n",
       "Age                         float64\n",
       "TypeofContact                object\n",
       "CityTier                      int64\n",
       "DurationOfPitch             float64\n",
       "Occupation                   object\n",
       "Gender                       object\n",
       "NumberOfPersonVisiting        int64\n",
       "NumberOfFollowups           float64\n",
       "ProductPitched               object\n",
       "PreferredPropertyStar       float64\n",
       "MaritalStatus                object\n",
       "NumberOfTrips               float64\n",
       "Passport                      int64\n",
       "PitchSatisfactionScore        int64\n",
       "OwnCar                        int64\n",
       "NumberOfChildrenVisiting    float64\n",
       "Designation                  object\n",
       "MonthlyIncome               float64\n",
       "dtype: object"
      ]
     },
     "execution_count": 9,
     "metadata": {},
     "output_type": "execute_result"
    }
   ],
   "source": [
    "#verifying the data types\n",
    "X.dtypes"
   ]
  },
  {
   "cell_type": "code",
   "execution_count": 10,
   "id": "b2daa58c-af1b-4ae6-9ce1-4cba404e4d46",
   "metadata": {},
   "outputs": [
    {
     "data": {
      "text/plain": [
       "TypeofContact     2\n",
       "Occupation        4\n",
       "Gender            3\n",
       "ProductPitched    5\n",
       "MaritalStatus     4\n",
       "Designation       5\n",
       "dtype: int64"
      ]
     },
     "execution_count": 10,
     "metadata": {},
     "output_type": "execute_result"
    }
   ],
   "source": [
    "# Generate our categorical variable list\n",
    "vacay_cat = vacay_df.dtypes[vacay_df.dtypes == \"object\"].index.tolist()\n",
    "                            \n",
    "# Check the number of unique values in each column\n",
    "vacay_df[vacay_cat].nunique()"
   ]
  },
  {
   "cell_type": "code",
   "execution_count": 11,
   "id": "e1c722b5-4486-465b-bce7-3d6339c86daf",
   "metadata": {},
   "outputs": [
    {
     "data": {
      "text/html": [
       "<div>\n",
       "<style scoped>\n",
       "    .dataframe tbody tr th:only-of-type {\n",
       "        vertical-align: middle;\n",
       "    }\n",
       "\n",
       "    .dataframe tbody tr th {\n",
       "        vertical-align: top;\n",
       "    }\n",
       "\n",
       "    .dataframe thead th {\n",
       "        text-align: right;\n",
       "    }\n",
       "</style>\n",
       "<table border=\"1\" class=\"dataframe\">\n",
       "  <thead>\n",
       "    <tr style=\"text-align: right;\">\n",
       "      <th></th>\n",
       "      <th>TypeofContact_Company Invited</th>\n",
       "      <th>TypeofContact_Self Enquiry</th>\n",
       "      <th>Occupation_Free Lancer</th>\n",
       "      <th>Occupation_Large Business</th>\n",
       "      <th>Occupation_Salaried</th>\n",
       "      <th>Occupation_Small Business</th>\n",
       "      <th>Gender_Fe Male</th>\n",
       "      <th>Gender_Female</th>\n",
       "      <th>Gender_Male</th>\n",
       "      <th>ProductPitched_Basic</th>\n",
       "      <th>...</th>\n",
       "      <th>ProductPitched_Super Deluxe</th>\n",
       "      <th>MaritalStatus_Divorced</th>\n",
       "      <th>MaritalStatus_Married</th>\n",
       "      <th>MaritalStatus_Single</th>\n",
       "      <th>MaritalStatus_Unmarried</th>\n",
       "      <th>Designation_AVP</th>\n",
       "      <th>Designation_Executive</th>\n",
       "      <th>Designation_Manager</th>\n",
       "      <th>Designation_Senior Manager</th>\n",
       "      <th>Designation_VP</th>\n",
       "    </tr>\n",
       "  </thead>\n",
       "  <tbody>\n",
       "    <tr>\n",
       "      <th>0</th>\n",
       "      <td>0.0</td>\n",
       "      <td>1.0</td>\n",
       "      <td>0.0</td>\n",
       "      <td>0.0</td>\n",
       "      <td>1.0</td>\n",
       "      <td>0.0</td>\n",
       "      <td>0.0</td>\n",
       "      <td>1.0</td>\n",
       "      <td>0.0</td>\n",
       "      <td>0.0</td>\n",
       "      <td>...</td>\n",
       "      <td>0.0</td>\n",
       "      <td>0.0</td>\n",
       "      <td>0.0</td>\n",
       "      <td>1.0</td>\n",
       "      <td>0.0</td>\n",
       "      <td>0.0</td>\n",
       "      <td>0.0</td>\n",
       "      <td>1.0</td>\n",
       "      <td>0.0</td>\n",
       "      <td>0.0</td>\n",
       "    </tr>\n",
       "    <tr>\n",
       "      <th>1</th>\n",
       "      <td>1.0</td>\n",
       "      <td>0.0</td>\n",
       "      <td>0.0</td>\n",
       "      <td>0.0</td>\n",
       "      <td>1.0</td>\n",
       "      <td>0.0</td>\n",
       "      <td>0.0</td>\n",
       "      <td>0.0</td>\n",
       "      <td>1.0</td>\n",
       "      <td>0.0</td>\n",
       "      <td>...</td>\n",
       "      <td>0.0</td>\n",
       "      <td>1.0</td>\n",
       "      <td>0.0</td>\n",
       "      <td>0.0</td>\n",
       "      <td>0.0</td>\n",
       "      <td>0.0</td>\n",
       "      <td>0.0</td>\n",
       "      <td>1.0</td>\n",
       "      <td>0.0</td>\n",
       "      <td>0.0</td>\n",
       "    </tr>\n",
       "    <tr>\n",
       "      <th>2</th>\n",
       "      <td>0.0</td>\n",
       "      <td>1.0</td>\n",
       "      <td>1.0</td>\n",
       "      <td>0.0</td>\n",
       "      <td>0.0</td>\n",
       "      <td>0.0</td>\n",
       "      <td>0.0</td>\n",
       "      <td>0.0</td>\n",
       "      <td>1.0</td>\n",
       "      <td>1.0</td>\n",
       "      <td>...</td>\n",
       "      <td>0.0</td>\n",
       "      <td>0.0</td>\n",
       "      <td>0.0</td>\n",
       "      <td>1.0</td>\n",
       "      <td>0.0</td>\n",
       "      <td>0.0</td>\n",
       "      <td>1.0</td>\n",
       "      <td>0.0</td>\n",
       "      <td>0.0</td>\n",
       "      <td>0.0</td>\n",
       "    </tr>\n",
       "    <tr>\n",
       "      <th>3</th>\n",
       "      <td>1.0</td>\n",
       "      <td>0.0</td>\n",
       "      <td>0.0</td>\n",
       "      <td>0.0</td>\n",
       "      <td>1.0</td>\n",
       "      <td>0.0</td>\n",
       "      <td>0.0</td>\n",
       "      <td>1.0</td>\n",
       "      <td>0.0</td>\n",
       "      <td>1.0</td>\n",
       "      <td>...</td>\n",
       "      <td>0.0</td>\n",
       "      <td>1.0</td>\n",
       "      <td>0.0</td>\n",
       "      <td>0.0</td>\n",
       "      <td>0.0</td>\n",
       "      <td>0.0</td>\n",
       "      <td>1.0</td>\n",
       "      <td>0.0</td>\n",
       "      <td>0.0</td>\n",
       "      <td>0.0</td>\n",
       "    </tr>\n",
       "    <tr>\n",
       "      <th>4</th>\n",
       "      <td>1.0</td>\n",
       "      <td>0.0</td>\n",
       "      <td>0.0</td>\n",
       "      <td>0.0</td>\n",
       "      <td>1.0</td>\n",
       "      <td>0.0</td>\n",
       "      <td>0.0</td>\n",
       "      <td>0.0</td>\n",
       "      <td>1.0</td>\n",
       "      <td>1.0</td>\n",
       "      <td>...</td>\n",
       "      <td>0.0</td>\n",
       "      <td>0.0</td>\n",
       "      <td>0.0</td>\n",
       "      <td>1.0</td>\n",
       "      <td>0.0</td>\n",
       "      <td>0.0</td>\n",
       "      <td>1.0</td>\n",
       "      <td>0.0</td>\n",
       "      <td>0.0</td>\n",
       "      <td>0.0</td>\n",
       "    </tr>\n",
       "  </tbody>\n",
       "</table>\n",
       "<p>5 rows × 23 columns</p>\n",
       "</div>"
      ],
      "text/plain": [
       "   TypeofContact_Company Invited  TypeofContact_Self Enquiry  \\\n",
       "0                            0.0                         1.0   \n",
       "1                            1.0                         0.0   \n",
       "2                            0.0                         1.0   \n",
       "3                            1.0                         0.0   \n",
       "4                            1.0                         0.0   \n",
       "\n",
       "   Occupation_Free Lancer  Occupation_Large Business  Occupation_Salaried  \\\n",
       "0                     0.0                        0.0                  1.0   \n",
       "1                     0.0                        0.0                  1.0   \n",
       "2                     1.0                        0.0                  0.0   \n",
       "3                     0.0                        0.0                  1.0   \n",
       "4                     0.0                        0.0                  1.0   \n",
       "\n",
       "   Occupation_Small Business  Gender_Fe Male  Gender_Female  Gender_Male  \\\n",
       "0                        0.0             0.0            1.0          0.0   \n",
       "1                        0.0             0.0            0.0          1.0   \n",
       "2                        0.0             0.0            0.0          1.0   \n",
       "3                        0.0             0.0            1.0          0.0   \n",
       "4                        0.0             0.0            0.0          1.0   \n",
       "\n",
       "   ProductPitched_Basic  ...  ProductPitched_Super Deluxe  \\\n",
       "0                   0.0  ...                          0.0   \n",
       "1                   0.0  ...                          0.0   \n",
       "2                   1.0  ...                          0.0   \n",
       "3                   1.0  ...                          0.0   \n",
       "4                   1.0  ...                          0.0   \n",
       "\n",
       "   MaritalStatus_Divorced  MaritalStatus_Married  MaritalStatus_Single  \\\n",
       "0                     0.0                    0.0                   1.0   \n",
       "1                     1.0                    0.0                   0.0   \n",
       "2                     0.0                    0.0                   1.0   \n",
       "3                     1.0                    0.0                   0.0   \n",
       "4                     0.0                    0.0                   1.0   \n",
       "\n",
       "   MaritalStatus_Unmarried  Designation_AVP  Designation_Executive  \\\n",
       "0                      0.0              0.0                    0.0   \n",
       "1                      0.0              0.0                    0.0   \n",
       "2                      0.0              0.0                    1.0   \n",
       "3                      0.0              0.0                    1.0   \n",
       "4                      0.0              0.0                    1.0   \n",
       "\n",
       "   Designation_Manager  Designation_Senior Manager  Designation_VP  \n",
       "0                  1.0                         0.0             0.0  \n",
       "1                  1.0                         0.0             0.0  \n",
       "2                  0.0                         0.0             0.0  \n",
       "3                  0.0                         0.0             0.0  \n",
       "4                  0.0                         0.0             0.0  \n",
       "\n",
       "[5 rows x 23 columns]"
      ]
     },
     "execution_count": 11,
     "metadata": {},
     "output_type": "execute_result"
    }
   ],
   "source": [
    "# Create a OneHotEncoder instance\n",
    "enc = OneHotEncoder(sparse=False)\n",
    "\n",
    "# Fit and Transform the OneHotEncoder using the categorical variable list\n",
    "encode_df = pd.DataFrame(enc.fit_transform(vacay_df[vacay_cat]))\n",
    "\n",
    "#Add teh encded variablee names to the DataFrame\n",
    "encode_df.columns = enc.get_feature_names(vacay_cat)\n",
    "encode_df.head()"
   ]
  },
  {
   "cell_type": "code",
   "execution_count": 12,
   "id": "068f07cf-b4ef-467a-8480-1760ef6a3d88",
   "metadata": {},
   "outputs": [
    {
     "name": "stderr",
     "output_type": "stream",
     "text": [
      "C:\\Users\\cthompson\\AppData\\Local\\Continuum\\anaconda3\\envs\\mlenv\\lib\\site-packages\\ipykernel_launcher.py:3: FutureWarning: In a future version of pandas all arguments of DataFrame.drop except for the argument 'labels' will be keyword-only\n",
      "  This is separate from the ipykernel package so we can avoid doing imports until\n"
     ]
    },
    {
     "data": {
      "text/html": [
       "<div>\n",
       "<style scoped>\n",
       "    .dataframe tbody tr th:only-of-type {\n",
       "        vertical-align: middle;\n",
       "    }\n",
       "\n",
       "    .dataframe tbody tr th {\n",
       "        vertical-align: top;\n",
       "    }\n",
       "\n",
       "    .dataframe thead th {\n",
       "        text-align: right;\n",
       "    }\n",
       "</style>\n",
       "<table border=\"1\" class=\"dataframe\">\n",
       "  <thead>\n",
       "    <tr style=\"text-align: right;\">\n",
       "      <th></th>\n",
       "      <th>CustomerID</th>\n",
       "      <th>ProdTaken</th>\n",
       "      <th>Age</th>\n",
       "      <th>CityTier</th>\n",
       "      <th>DurationOfPitch</th>\n",
       "      <th>NumberOfPersonVisiting</th>\n",
       "      <th>NumberOfFollowups</th>\n",
       "      <th>PreferredPropertyStar</th>\n",
       "      <th>NumberOfTrips</th>\n",
       "      <th>Passport</th>\n",
       "      <th>PitchSatisfactionScore</th>\n",
       "      <th>OwnCar</th>\n",
       "      <th>NumberOfChildrenVisiting</th>\n",
       "      <th>MonthlyIncome</th>\n",
       "    </tr>\n",
       "  </thead>\n",
       "  <tbody>\n",
       "    <tr>\n",
       "      <th>0</th>\n",
       "      <td>200000</td>\n",
       "      <td>1</td>\n",
       "      <td>41.0</td>\n",
       "      <td>3</td>\n",
       "      <td>6.0</td>\n",
       "      <td>3</td>\n",
       "      <td>3.0</td>\n",
       "      <td>3.0</td>\n",
       "      <td>1.0</td>\n",
       "      <td>1</td>\n",
       "      <td>2</td>\n",
       "      <td>1</td>\n",
       "      <td>0.0</td>\n",
       "      <td>20993.0</td>\n",
       "    </tr>\n",
       "    <tr>\n",
       "      <th>1</th>\n",
       "      <td>200001</td>\n",
       "      <td>0</td>\n",
       "      <td>49.0</td>\n",
       "      <td>1</td>\n",
       "      <td>14.0</td>\n",
       "      <td>3</td>\n",
       "      <td>4.0</td>\n",
       "      <td>4.0</td>\n",
       "      <td>2.0</td>\n",
       "      <td>0</td>\n",
       "      <td>3</td>\n",
       "      <td>1</td>\n",
       "      <td>2.0</td>\n",
       "      <td>20130.0</td>\n",
       "    </tr>\n",
       "    <tr>\n",
       "      <th>2</th>\n",
       "      <td>200002</td>\n",
       "      <td>1</td>\n",
       "      <td>37.0</td>\n",
       "      <td>1</td>\n",
       "      <td>8.0</td>\n",
       "      <td>3</td>\n",
       "      <td>4.0</td>\n",
       "      <td>3.0</td>\n",
       "      <td>7.0</td>\n",
       "      <td>1</td>\n",
       "      <td>3</td>\n",
       "      <td>0</td>\n",
       "      <td>0.0</td>\n",
       "      <td>17090.0</td>\n",
       "    </tr>\n",
       "    <tr>\n",
       "      <th>3</th>\n",
       "      <td>200003</td>\n",
       "      <td>0</td>\n",
       "      <td>33.0</td>\n",
       "      <td>1</td>\n",
       "      <td>9.0</td>\n",
       "      <td>2</td>\n",
       "      <td>3.0</td>\n",
       "      <td>3.0</td>\n",
       "      <td>2.0</td>\n",
       "      <td>1</td>\n",
       "      <td>5</td>\n",
       "      <td>1</td>\n",
       "      <td>1.0</td>\n",
       "      <td>17909.0</td>\n",
       "    </tr>\n",
       "    <tr>\n",
       "      <th>5</th>\n",
       "      <td>200005</td>\n",
       "      <td>0</td>\n",
       "      <td>32.0</td>\n",
       "      <td>1</td>\n",
       "      <td>8.0</td>\n",
       "      <td>3</td>\n",
       "      <td>3.0</td>\n",
       "      <td>3.0</td>\n",
       "      <td>1.0</td>\n",
       "      <td>0</td>\n",
       "      <td>5</td>\n",
       "      <td>1</td>\n",
       "      <td>1.0</td>\n",
       "      <td>18068.0</td>\n",
       "    </tr>\n",
       "  </tbody>\n",
       "</table>\n",
       "</div>"
      ],
      "text/plain": [
       "   CustomerID  ProdTaken   Age  CityTier  DurationOfPitch  \\\n",
       "0      200000          1  41.0         3              6.0   \n",
       "1      200001          0  49.0         1             14.0   \n",
       "2      200002          1  37.0         1              8.0   \n",
       "3      200003          0  33.0         1              9.0   \n",
       "5      200005          0  32.0         1              8.0   \n",
       "\n",
       "   NumberOfPersonVisiting  NumberOfFollowups  PreferredPropertyStar  \\\n",
       "0                       3                3.0                    3.0   \n",
       "1                       3                4.0                    4.0   \n",
       "2                       3                4.0                    3.0   \n",
       "3                       2                3.0                    3.0   \n",
       "5                       3                3.0                    3.0   \n",
       "\n",
       "   NumberOfTrips  Passport  PitchSatisfactionScore  OwnCar  \\\n",
       "0            1.0         1                       2       1   \n",
       "1            2.0         0                       3       1   \n",
       "2            7.0         1                       3       0   \n",
       "3            2.0         1                       5       1   \n",
       "5            1.0         0                       5       1   \n",
       "\n",
       "   NumberOfChildrenVisiting  MonthlyIncome  \n",
       "0                       0.0        20993.0  \n",
       "1                       2.0        20130.0  \n",
       "2                       0.0        17090.0  \n",
       "3                       1.0        17909.0  \n",
       "5                       1.0        18068.0  "
      ]
     },
     "execution_count": 12,
     "metadata": {},
     "output_type": "execute_result"
    }
   ],
   "source": [
    "# Merge one -hot encoded features and drop the originals\n",
    "vcay_df = vacay_df.merge(encode_df, left_index=True, right_index=True)\n",
    "vacay_df= vacay_df.drop(vacay_cat,1)\n",
    "vacay_df.head()"
   ]
  },
  {
   "cell_type": "code",
   "execution_count": 13,
   "id": "48b61062-b781-474b-a236-c25c59ea36e5",
   "metadata": {},
   "outputs": [
    {
     "data": {
      "text/plain": [
       "(3096, 13)"
      ]
     },
     "execution_count": 13,
     "metadata": {},
     "output_type": "execute_result"
    }
   ],
   "source": [
    "# Remove ProdTaken target from features data\n",
    "y = vacay_df.ProdTaken\n",
    "X = vacay_df.drop(columns=[\"ProdTaken\"])\n",
    "\n",
    "# Split training/test datasets\n",
    "X_train, X_test, y_train, y_test = train_test_split(X, y, random_state=42, stratify=y)\n",
    "\n",
    "# Create a StandardScaler instance\n",
    "scaler = StandardScaler()\n",
    "\n",
    "# Fit the StandardScaler\n",
    "X_scaler = scaler.fit(X_train)\n",
    "\n",
    "# Scale the data\n",
    "X_train_scaled = X_scaler.transform(X_train)\n",
    "X_test_scaled = X_scaler.transform(X_test)\n",
    "\n",
    "X_train.shape"
   ]
  },
  {
   "cell_type": "code",
   "execution_count": 14,
   "id": "c3fcee0e-4b50-45ac-a464-1a4ea407e601",
   "metadata": {},
   "outputs": [],
   "source": [
    "# Create Logistic Regression Model\n",
    "classifier = LogisticRegression(solver='lbfgs',\n",
    "                                max_iter=200,\n",
    "                                random_state=1)"
   ]
  },
  {
   "cell_type": "code",
   "execution_count": 15,
   "id": "e7542135-a38a-4fef-8931-d061241f897f",
   "metadata": {},
   "outputs": [
    {
     "data": {
      "text/plain": [
       "LogisticRegression(max_iter=200, random_state=1)"
      ]
     },
     "execution_count": 15,
     "metadata": {},
     "output_type": "execute_result"
    }
   ],
   "source": [
    "#Fit (train) or model using the training data\n",
    "classifier.fit(X_train, y_train)"
   ]
  },
  {
   "cell_type": "code",
   "execution_count": 1,
   "id": "6e4caf1a-f0b0-4eb4-a067-ef37c1384c27",
   "metadata": {},
   "outputs": [
    {
     "ename": "SyntaxError",
     "evalue": "invalid syntax (Temp/ipykernel_15032/2090727028.py, line 3)",
     "output_type": "error",
     "traceback": [
      "\u001b[1;36m  File \u001b[1;32m\"C:\\Users\\CTHOMP~1\\AppData\\Local\\Temp/ipykernel_15032/2090727028.py\"\u001b[1;36m, line \u001b[1;32m3\u001b[0m\n\u001b[1;33m    results.head(20)\u001b[0m\n\u001b[1;37m          ^\u001b[0m\n\u001b[1;31mSyntaxError\u001b[0m\u001b[1;31m:\u001b[0m invalid syntax\n"
     ]
    }
   ],
   "source": [
    "y_pred = classifier.predict(X_test)\n",
    "results = pd.DataFrame({\"Prediction\": y_pred, \"Actual\": y_test}.reset_index(drop=True))\n",
    "results.head(20)"
   ]
  },
  {
   "cell_type": "code",
   "execution_count": 17,
   "id": "ed3f0962-80ed-44e1-b27b-2ce9eccc79cc",
   "metadata": {},
   "outputs": [
    {
     "name": "stdout",
     "output_type": "stream",
     "text": [
      "0.8071705426356589\n"
     ]
    }
   ],
   "source": [
    "\n",
    "print(accuracy_score(y_test, y_pred))"
   ]
  },
  {
   "cell_type": "code",
   "execution_count": 18,
   "id": "db7c4c3a-acab-4c45-a279-277ade63eb93",
   "metadata": {},
   "outputs": [
    {
     "data": {
      "text/plain": [
       "array([[833,   0],\n",
       "       [199,   0]], dtype=int64)"
      ]
     },
     "metadata": {},
     "output_type": "display_data"
    }
   ],
   "source": [
    "#Confustion Matrixx\n",
    "lr_matrix = confusion_matrix(y_test, y_pred)\n",
    "display(lr_matrix)\n",
    "#print(lr_matrix)"
   ]
  },
  {
   "cell_type": "code",
   "execution_count": 19,
   "id": "dc05f441-82c5-4691-afb7-e016938620ba",
   "metadata": {},
   "outputs": [
    {
     "name": "stdout",
     "output_type": "stream",
     "text": [
      "Logistic Classification Report\n",
      "              precision    recall  f1-score   support\n",
      "\n",
      "           0       0.81      1.00      0.89       833\n",
      "           1       0.00      0.00      0.00       199\n",
      "\n",
      "    accuracy                           0.81      1032\n",
      "   macro avg       0.40      0.50      0.45      1032\n",
      "weighted avg       0.65      0.81      0.72      1032\n",
      "\n"
     ]
    },
    {
     "name": "stderr",
     "output_type": "stream",
     "text": [
      "C:\\Users\\cthompson\\AppData\\Local\\Continuum\\anaconda3\\envs\\mlenv\\lib\\site-packages\\sklearn\\metrics\\_classification.py:1248: UndefinedMetricWarning: Precision and F-score are ill-defined and being set to 0.0 in labels with no predicted samples. Use `zero_division` parameter to control this behavior.\n",
      "  _warn_prf(average, modifier, msg_start, len(result))\n",
      "C:\\Users\\cthompson\\AppData\\Local\\Continuum\\anaconda3\\envs\\mlenv\\lib\\site-packages\\sklearn\\metrics\\_classification.py:1248: UndefinedMetricWarning: Precision and F-score are ill-defined and being set to 0.0 in labels with no predicted samples. Use `zero_division` parameter to control this behavior.\n",
      "  _warn_prf(average, modifier, msg_start, len(result))\n",
      "C:\\Users\\cthompson\\AppData\\Local\\Continuum\\anaconda3\\envs\\mlenv\\lib\\site-packages\\sklearn\\metrics\\_classification.py:1248: UndefinedMetricWarning: Precision and F-score are ill-defined and being set to 0.0 in labels with no predicted samples. Use `zero_division` parameter to control this behavior.\n",
      "  _warn_prf(average, modifier, msg_start, len(result))\n"
     ]
    }
   ],
   "source": [
    "lr_report = classification_report(y_test, y_pred)\n",
    "print(\"Logistic Classification Report\")\n",
    "print(lr_report)"
   ]
  },
  {
   "cell_type": "code",
   "execution_count": 20,
   "id": "12d4d55c-eec1-4266-96e6-9138df7bb008",
   "metadata": {},
   "outputs": [
    {
     "data": {
      "text/plain": [
       "Counter({0: 833, 1: 199})"
      ]
     },
     "execution_count": 20,
     "metadata": {},
     "output_type": "execute_result"
    }
   ],
   "source": [
    "from collections import Counter\n",
    "Counter(y_train)\n",
    "Counter(y_test)"
   ]
  },
  {
   "cell_type": "code",
   "execution_count": 21,
   "id": "cb76ff50-a2c6-42b1-81c8-991882b7e044",
   "metadata": {},
   "outputs": [
    {
     "name": "stdout",
     "output_type": "stream",
     "text": [
      "Random Forest Predictive Accuracy: 0.886\n"
     ]
    }
   ],
   "source": [
    "# Create a random forest classifier\n",
    "rf_model = RandomForestClassifier(n_estimators=128, random_state=78)\n",
    "\n",
    "#Fitting the model\n",
    "rf_model = rf_model.fit(X_train_scaled, y_train)\n",
    "\n",
    "#Evaluate the model\n",
    "y_pred=rf_model.predict(X_test_scaled)\n",
    "print(f\"Random Forest Predictive Accuracy: {accuracy_score(y_test,y_pred):.3f}\")"
   ]
  },
  {
   "cell_type": "code",
   "execution_count": 22,
   "id": "d32d567b-8a39-412a-8d6e-bd7cffa36c09",
   "metadata": {},
   "outputs": [
    {
     "name": "stdout",
     "output_type": "stream",
     "text": [
      "Random Forest Classification Report\n",
      "              precision    recall  f1-score   support\n",
      "\n",
      "           0       0.89      0.98      0.93       833\n",
      "           1       0.88      0.47      0.61       199\n",
      "\n",
      "    accuracy                           0.89      1032\n",
      "   macro avg       0.88      0.73      0.77      1032\n",
      "weighted avg       0.88      0.89      0.87      1032\n",
      "\n",
      "Random Forest Predictive Accuracy: 0.886\n"
     ]
    },
    {
     "data": {
      "text/html": [
       "<div>\n",
       "<style scoped>\n",
       "    .dataframe tbody tr th:only-of-type {\n",
       "        vertical-align: middle;\n",
       "    }\n",
       "\n",
       "    .dataframe tbody tr th {\n",
       "        vertical-align: top;\n",
       "    }\n",
       "\n",
       "    .dataframe thead th {\n",
       "        text-align: right;\n",
       "    }\n",
       "</style>\n",
       "<table border=\"1\" class=\"dataframe\">\n",
       "  <thead>\n",
       "    <tr style=\"text-align: right;\">\n",
       "      <th></th>\n",
       "      <th>Predicted 0</th>\n",
       "      <th>Predicted 1</th>\n",
       "    </tr>\n",
       "  </thead>\n",
       "  <tbody>\n",
       "    <tr>\n",
       "      <th>Actual 0</th>\n",
       "      <td>820</td>\n",
       "      <td>13</td>\n",
       "    </tr>\n",
       "    <tr>\n",
       "      <th>Actual 1</th>\n",
       "      <td>105</td>\n",
       "      <td>94</td>\n",
       "    </tr>\n",
       "  </tbody>\n",
       "</table>\n",
       "</div>"
      ],
      "text/plain": [
       "          Predicted 0  Predicted 1\n",
       "Actual 0          820           13\n",
       "Actual 1          105           94"
      ]
     },
     "execution_count": 22,
     "metadata": {},
     "output_type": "execute_result"
    }
   ],
   "source": [
    "#Evaluate the model\n",
    "print(\"Random Forest Classification Report\")\n",
    "rf_report = classification_report(y_test, y_pred)\n",
    "print(rf_report)\n",
    "y_pred=rf_model.predict(X_test_scaled)\n",
    "print(f\"Random Forest Predictive Accuracy: {accuracy_score(y_test,y_pred):.3f}\")\n",
    "\n",
    "# Making predictions using the testing data\n",
    "predictions = rf_model.predict(X_test_scaled)\n",
    "predictions\n",
    "\n",
    "# Calculating the confusion matrix\n",
    "cm = confusion_matrix(y_test, predictions)\n",
    "cm_df = pd.DataFrame(\n",
    "    cm, index=[\"Actual 0\", \"Actual 1\"], columns=[\"Predicted 0\", \"Predicted 1\"]\n",
    ")\n",
    "cm_df\n"
   ]
  },
  {
   "cell_type": "code",
   "execution_count": null,
   "id": "e6fe9149-c1fd-4fa1-bbb0-eb53868c8093",
   "metadata": {},
   "outputs": [],
   "source": []
  }
 ],
 "metadata": {
  "kernelspec": {
   "display_name": "mlenv",
   "language": "python",
   "name": "mlenv"
  },
  "language_info": {
   "codemirror_mode": {
    "name": "ipython",
    "version": 3
   },
   "file_extension": ".py",
   "mimetype": "text/x-python",
   "name": "python",
   "nbconvert_exporter": "python",
   "pygments_lexer": "ipython3",
   "version": "3.7.11"
  }
 },
 "nbformat": 4,
 "nbformat_minor": 5
}
